{
 "cells": [
  {
   "cell_type": "markdown",
   "metadata": {},
   "source": [
    "# Final Project: Sentiment Analysis on Covid-19 Tweets  \n",
    "**Math189Z – Covid-19: Data Analytics and Machine Learning**  \n",
    "Nico Espinosa Dice  \n",
    "*May, 2020*  "
   ]
  },
  {
   "cell_type": "markdown",
   "metadata": {},
   "source": [
    "## Sources\n",
    "This project uses theory presented in the following academic papers:  \n",
    "- [Sentiment Analysis of Twitter Data](http://www.cs.columbia.edu/~julia/papers/Agarwaletal11.pdf) (1)\n",
    "\n",
    "- [Sentiment Analysis of Twitter Data](https://arxiv.org/pdf/1711.10377.pdf) (2)\n",
    "\n",
    "- [Covid-19 Tweets Dataset and Statistics](https://ieee-dataport.org/open-access/corona-virus-covid-19-tweets-dataset)\n",
    "\n",
    "\n",
    "This project uses code that was inspired and adapted from the following open-source resources:  \n",
    "- [Twitter Sentiment Analysis with Explanation (Naive Bayes)](https://medium.com/@koshut.takatsuji/twitter-sentiment-analysis-with-full-code-and-explanation-naive-bayes-a380b38f036b)\n",
    "\n",
    "- [Creating The Twitter Sentiment Analysis Program in Python with Naive Bayes Classification](https://towardsdatascience.com/creating-the-twitter-sentiment-analysis-program-in-python-with-naive-bayes-classification-672e5589a7ed)\n",
    "\n",
    "- [How to Do Sentiment Analysis on a Twitter Account](https://medium.com/better-programming/twitter-sentiment-analysis-15d8892c0082)\n",
    "\n",
    "- [Comprehensive Hands on Guide to Twitter Sentiment Analysis with dataset and code](https://www.analyticsvidhya.com/blog/2018/07/hands-on-sentiment-analysis-dataset-python/)\n",
    "\n",
    "### Data\n",
    "The dataset of Tweets was provided by Professor Gu as part of HMC Math189Z. The data is available [here](https://math189covid19.github.io/resources.html). The original source of the data is unknown at this time.\n",
    "\n",
    "The Twitter sentiment corpus was provided in this [public repository](https://github.com/zfz/twitter_corpus).\n",
    "\n",
    "The Covid-19 related data was provided in this [public repository](https://data.humdata.org/dataset/novel-coronavirus-2019-ncov-cases/resource/d037a9e3-69d8-4452-bc51-3e225fca75c3)."
   ]
  },
  {
   "cell_type": "markdown",
   "metadata": {},
   "source": [
    "## Importing Data"
   ]
  },
  {
   "cell_type": "code",
   "execution_count": 1,
   "metadata": {},
   "outputs": [
    {
     "name": "stderr",
     "output_type": "stream",
     "text": [
      "[nltk_data] Downloading package stopwords to\n",
      "[nltk_data]     /Users/nicoespinosadice/nltk_data...\n",
      "[nltk_data]   Package stopwords is already up-to-date!\n",
      "[nltk_data] Downloading package punkt to\n",
      "[nltk_data]     /Users/nicoespinosadice/nltk_data...\n",
      "[nltk_data]   Package punkt is already up-to-date!\n"
     ]
    },
    {
     "data": {
      "text/plain": [
       "True"
      ]
     },
     "execution_count": 1,
     "metadata": {},
     "output_type": "execute_result"
    }
   ],
   "source": [
    "# Imports the necessary libraries\n",
    "import numpy as np\n",
    "import pandas as pd\n",
    "import re\n",
    "from textblob import TextBlob\n",
    "import matplotlib.pyplot as plt\n",
    "import nltk\n",
    "from nltk.tokenize import word_tokenize\n",
    "from string import punctuation \n",
    "from nltk.corpus import stopwords\n",
    "from sklearn.model_selection import train_test_split\n",
    "from sklearn import preprocessing\n",
    "from collections import Counter\n",
    "nltk.download('stopwords')\n",
    "nltk.download('punkt')"
   ]
  },
  {
   "cell_type": "code",
   "execution_count": 2,
   "metadata": {},
   "outputs": [],
   "source": [
    "# Imports data into Pandas dataframe\n",
    "feb_tweets = pd.read_csv('Data/feb_data.csv')\n",
    "march_tweets = pd.read_csv('Data/march_data.csv')\n",
    "april_tweets = pd.read_csv('Data/april_data.csv')"
   ]
  },
  {
   "cell_type": "code",
   "execution_count": 3,
   "metadata": {},
   "outputs": [],
   "source": [
    "# Sets column names of dataframes and drop unnecessary column\n",
    "feb_tweets.columns, march_tweets.columns, april_tweets.columns = ['Number', \"Date\", \"Text\"], ['Number', \"Date\", \"Text\"], ['Number', \"Date\", \"Text\"]\n",
    "feb_tweets = feb_tweets.drop(columns = [\"Number\"])\n",
    "march_tweets = march_tweets.drop(columns = [\"Number\"])\n",
    "april_tweets = april_tweets.drop(columns = [\"Number\"])"
   ]
  },
  {
   "cell_type": "code",
   "execution_count": 4,
   "metadata": {},
   "outputs": [],
   "source": [
    "feb_tweets[\"Month\"] = \"February\"\n",
    "march_tweets[\"Month\"] = \"March\"\n",
    "april_tweets[\"Month\"] = \"April\"\n",
    "\n",
    "data = pd.concat([feb_tweets, march_tweets, april_tweets], ignore_index=True)"
   ]
  },
  {
   "cell_type": "markdown",
   "metadata": {},
   "source": [
    "## Exploratory Data Analysis"
   ]
  },
  {
   "cell_type": "code",
   "execution_count": 5,
   "metadata": {},
   "outputs": [
    {
     "data": {
      "text/html": [
       "<div>\n",
       "<style scoped>\n",
       "    .dataframe tbody tr th:only-of-type {\n",
       "        vertical-align: middle;\n",
       "    }\n",
       "\n",
       "    .dataframe tbody tr th {\n",
       "        vertical-align: top;\n",
       "    }\n",
       "\n",
       "    .dataframe thead th {\n",
       "        text-align: right;\n",
       "    }\n",
       "</style>\n",
       "<table border=\"1\" class=\"dataframe\">\n",
       "  <thead>\n",
       "    <tr style=\"text-align: right;\">\n",
       "      <th></th>\n",
       "      <th>Date</th>\n",
       "      <th>Text</th>\n",
       "      <th>Month</th>\n",
       "    </tr>\n",
       "  </thead>\n",
       "  <tbody>\n",
       "    <tr>\n",
       "      <th>0</th>\n",
       "      <td>2020-02-19 23:59:11</td>\n",
       "      <td>Head nurse Cai Liping of Wuchang Hospital died...</td>\n",
       "      <td>February</td>\n",
       "    </tr>\n",
       "    <tr>\n",
       "      <th>1</th>\n",
       "      <td>2020-02-19 23:59:00</td>\n",
       "      <td>This bacteria-killing UV light robot helps a W...</td>\n",
       "      <td>February</td>\n",
       "    </tr>\n",
       "    <tr>\n",
       "      <th>2</th>\n",
       "      <td>2020-02-19 23:56:52</td>\n",
       "      <td>For those that are into the business side of s...</td>\n",
       "      <td>February</td>\n",
       "    </tr>\n",
       "    <tr>\n",
       "      <th>3</th>\n",
       "      <td>2020-02-19 23:55:34</td>\n",
       "      <td>How to fight against #coronavirus in #japan</td>\n",
       "      <td>February</td>\n",
       "    </tr>\n",
       "    <tr>\n",
       "      <th>4</th>\n",
       "      <td>2020-02-19 23:53:03</td>\n",
       "      <td>Diseases like covid-19 are deadlier in non-dem...</td>\n",
       "      <td>February</td>\n",
       "    </tr>\n",
       "  </tbody>\n",
       "</table>\n",
       "</div>"
      ],
      "text/plain": [
       "                  Date                                               Text  \\\n",
       "0  2020-02-19 23:59:11  Head nurse Cai Liping of Wuchang Hospital died...   \n",
       "1  2020-02-19 23:59:00  This bacteria-killing UV light robot helps a W...   \n",
       "2  2020-02-19 23:56:52  For those that are into the business side of s...   \n",
       "3  2020-02-19 23:55:34        How to fight against #coronavirus in #japan   \n",
       "4  2020-02-19 23:53:03  Diseases like covid-19 are deadlier in non-dem...   \n",
       "\n",
       "      Month  \n",
       "0  February  \n",
       "1  February  \n",
       "2  February  \n",
       "3  February  \n",
       "4  February  "
      ]
     },
     "execution_count": 5,
     "metadata": {},
     "output_type": "execute_result"
    }
   ],
   "source": [
    "feb_tweets.head()"
   ]
  },
  {
   "cell_type": "code",
   "execution_count": 6,
   "metadata": {},
   "outputs": [
    {
     "data": {
      "text/html": [
       "<div>\n",
       "<style scoped>\n",
       "    .dataframe tbody tr th:only-of-type {\n",
       "        vertical-align: middle;\n",
       "    }\n",
       "\n",
       "    .dataframe tbody tr th {\n",
       "        vertical-align: top;\n",
       "    }\n",
       "\n",
       "    .dataframe thead th {\n",
       "        text-align: right;\n",
       "    }\n",
       "</style>\n",
       "<table border=\"1\" class=\"dataframe\">\n",
       "  <thead>\n",
       "    <tr style=\"text-align: right;\">\n",
       "      <th></th>\n",
       "      <th>Date</th>\n",
       "      <th>Text</th>\n",
       "      <th>Month</th>\n",
       "    </tr>\n",
       "  </thead>\n",
       "  <tbody>\n",
       "    <tr>\n",
       "      <th>0</th>\n",
       "      <td>2020-02-19 23:59:11</td>\n",
       "      <td>Head nurse Cai Liping of Wuchang Hospital died...</td>\n",
       "      <td>February</td>\n",
       "    </tr>\n",
       "    <tr>\n",
       "      <th>1</th>\n",
       "      <td>2020-02-19 23:59:00</td>\n",
       "      <td>This bacteria-killing UV light robot helps a W...</td>\n",
       "      <td>February</td>\n",
       "    </tr>\n",
       "    <tr>\n",
       "      <th>2</th>\n",
       "      <td>2020-02-19 23:56:52</td>\n",
       "      <td>For those that are into the business side of s...</td>\n",
       "      <td>February</td>\n",
       "    </tr>\n",
       "    <tr>\n",
       "      <th>3</th>\n",
       "      <td>2020-02-19 23:55:34</td>\n",
       "      <td>How to fight against #coronavirus in #japan</td>\n",
       "      <td>February</td>\n",
       "    </tr>\n",
       "    <tr>\n",
       "      <th>4</th>\n",
       "      <td>2020-02-19 23:53:03</td>\n",
       "      <td>Diseases like covid-19 are deadlier in non-dem...</td>\n",
       "      <td>February</td>\n",
       "    </tr>\n",
       "  </tbody>\n",
       "</table>\n",
       "</div>"
      ],
      "text/plain": [
       "                  Date                                               Text  \\\n",
       "0  2020-02-19 23:59:11  Head nurse Cai Liping of Wuchang Hospital died...   \n",
       "1  2020-02-19 23:59:00  This bacteria-killing UV light robot helps a W...   \n",
       "2  2020-02-19 23:56:52  For those that are into the business side of s...   \n",
       "3  2020-02-19 23:55:34        How to fight against #coronavirus in #japan   \n",
       "4  2020-02-19 23:53:03  Diseases like covid-19 are deadlier in non-dem...   \n",
       "\n",
       "      Month  \n",
       "0  February  \n",
       "1  February  \n",
       "2  February  \n",
       "3  February  \n",
       "4  February  "
      ]
     },
     "execution_count": 6,
     "metadata": {},
     "output_type": "execute_result"
    }
   ],
   "source": [
    "data.head()"
   ]
  },
  {
   "cell_type": "markdown",
   "metadata": {},
   "source": [
    "## Data Preprocessing"
   ]
  },
  {
   "cell_type": "markdown",
   "metadata": {},
   "source": [
    "### Data Cleaning"
   ]
  },
  {
   "cell_type": "code",
   "execution_count": 7,
   "metadata": {},
   "outputs": [],
   "source": [
    "new_stopwords = set(stopwords.words('english') + list(punctuation) + ['AT_USER','URL'])"
   ]
  },
  {
   "cell_type": "code",
   "execution_count": 8,
   "metadata": {},
   "outputs": [],
   "source": [
    "# \"cleans\" the text by removing hyperlinks, hashtags, mentions, and retweets\n",
    "# This function was suggested here: https://medium.com/better-programming/twitter-sentiment-analysis-15d8892c0082\n",
    "def cleanText(text):\n",
    "    text = text.lower() # Makes text lowercase\n",
    "    text = re.sub('https?:\\/\\/\\S+', '', text) # Removes hyperlinks\n",
    "    text = re.sub('#', '', text) # Removes hashtags\n",
    "    text = re.sub('@[A-Za-z0–9]+', '', text) # Removes mentions (@)\n",
    "    text = re.sub('RT[\\s]+', '', text) # Removes \"RT\"\n",
    "    return text"
   ]
  },
  {
   "cell_type": "code",
   "execution_count": 9,
   "metadata": {},
   "outputs": [],
   "source": [
    "def convertToList(text):\n",
    "    text = word_tokenize(text)\n",
    "    return [word for word in text if word not in new_stopwords] # Source for this line: https://towardsdatascience.com/creating-the-twitter-sentiment-analysis-program-in-python-with-naive-bayes-classification-672e5589a7ed"
   ]
  },
  {
   "cell_type": "code",
   "execution_count": 10,
   "metadata": {},
   "outputs": [],
   "source": [
    "# Applys cleanText() to every Tweet in dataframe\n",
    "data[\"Text\"] = data[\"Text\"].apply(cleanText)\n",
    "data[\"List of Words\"] = data[\"Text\"].apply(convertToList)"
   ]
  },
  {
   "cell_type": "code",
   "execution_count": 11,
   "metadata": {},
   "outputs": [],
   "source": [
    "def cleanDate(date):\n",
    "    month = date[5:7]\n",
    "    day = date[8:10]\n",
    "    \n",
    "    if month[0] == \"0\":\n",
    "        month = month[1]\n",
    "    if day[0] == \"0\":\n",
    "        day = day[1]\n",
    "    \n",
    "    return month + \"/\" + day + \"/20\""
   ]
  },
  {
   "cell_type": "code",
   "execution_count": 12,
   "metadata": {},
   "outputs": [],
   "source": [
    "data[\"Date\"] = data[\"Date\"].apply(cleanDate)"
   ]
  },
  {
   "cell_type": "code",
   "execution_count": 13,
   "metadata": {},
   "outputs": [
    {
     "data": {
      "text/html": [
       "<div>\n",
       "<style scoped>\n",
       "    .dataframe tbody tr th:only-of-type {\n",
       "        vertical-align: middle;\n",
       "    }\n",
       "\n",
       "    .dataframe tbody tr th {\n",
       "        vertical-align: top;\n",
       "    }\n",
       "\n",
       "    .dataframe thead th {\n",
       "        text-align: right;\n",
       "    }\n",
       "</style>\n",
       "<table border=\"1\" class=\"dataframe\">\n",
       "  <thead>\n",
       "    <tr style=\"text-align: right;\">\n",
       "      <th></th>\n",
       "      <th>Date</th>\n",
       "      <th>Text</th>\n",
       "      <th>Month</th>\n",
       "      <th>List of Words</th>\n",
       "    </tr>\n",
       "  </thead>\n",
       "  <tbody>\n",
       "    <tr>\n",
       "      <th>7495</th>\n",
       "      <td>4/4/20</td>\n",
       "      <td>breaking: new york \"accidentally\" delivered co...</td>\n",
       "      <td>April</td>\n",
       "      <td>[breaking, new, york, ``, accidentally, '', de...</td>\n",
       "    </tr>\n",
       "    <tr>\n",
       "      <th>7496</th>\n",
       "      <td>4/4/20</td>\n",
       "      <td>with fewer people around because of coronaviru...</td>\n",
       "      <td>April</td>\n",
       "      <td>[fewer, people, around, coronavirus, endangere...</td>\n",
       "    </tr>\n",
       "    <tr>\n",
       "      <th>7497</th>\n",
       "      <td>4/4/20</td>\n",
       "      <td>if joe biden is talking about the trump admini...</td>\n",
       "      <td>April</td>\n",
       "      <td>[joe, biden, talking, trump, administration, ’...</td>\n",
       "    </tr>\n",
       "    <tr>\n",
       "      <th>7498</th>\n",
       "      <td>4/4/20</td>\n",
       "      <td>in case you know anyone looking for a job, par...</td>\n",
       "      <td>April</td>\n",
       "      <td>[case, know, anyone, looking, job, partners, h...</td>\n",
       "    </tr>\n",
       "    <tr>\n",
       "      <th>7499</th>\n",
       "      <td>4/4/20</td>\n",
       "      <td>atleast now we all know where lisbon got its c...</td>\n",
       "      <td>April</td>\n",
       "      <td>[atleast, know, lisbon, got, corona, virus, mo...</td>\n",
       "    </tr>\n",
       "  </tbody>\n",
       "</table>\n",
       "</div>"
      ],
      "text/plain": [
       "        Date                                               Text  Month  \\\n",
       "7495  4/4/20  breaking: new york \"accidentally\" delivered co...  April   \n",
       "7496  4/4/20  with fewer people around because of coronaviru...  April   \n",
       "7497  4/4/20  if joe biden is talking about the trump admini...  April   \n",
       "7498  4/4/20  in case you know anyone looking for a job, par...  April   \n",
       "7499  4/4/20  atleast now we all know where lisbon got its c...  April   \n",
       "\n",
       "                                          List of Words  \n",
       "7495  [breaking, new, york, ``, accidentally, '', de...  \n",
       "7496  [fewer, people, around, coronavirus, endangere...  \n",
       "7497  [joe, biden, talking, trump, administration, ’...  \n",
       "7498  [case, know, anyone, looking, job, partners, h...  \n",
       "7499  [atleast, know, lisbon, got, corona, virus, mo...  "
      ]
     },
     "execution_count": 13,
     "metadata": {},
     "output_type": "execute_result"
    }
   ],
   "source": [
    "data.tail()"
   ]
  },
  {
   "cell_type": "markdown",
   "metadata": {},
   "source": [
    "## Feature Engineering"
   ]
  },
  {
   "cell_type": "markdown",
   "metadata": {},
   "source": [
    "### Polarity\n",
    "-1 → extreme negative,  \n",
    "0 → neutral,  \n",
    "1 → extreme positive."
   ]
  },
  {
   "cell_type": "code",
   "execution_count": 14,
   "metadata": {},
   "outputs": [],
   "source": [
    "# Returns the polarity of the Tweet's text\n",
    "def getPolarity(text):\n",
    "   return  TextBlob(text).sentiment.polarity"
   ]
  },
  {
   "cell_type": "code",
   "execution_count": 15,
   "metadata": {},
   "outputs": [],
   "source": [
    "# Creates a new column containing the subjectivity of every Tweet\n",
    "data['Polarity'] = data['Text'].apply(getPolarity)"
   ]
  },
  {
   "cell_type": "markdown",
   "metadata": {},
   "source": [
    "### Subjectivity\n",
    "0 → fact,  \n",
    "1 → opinion."
   ]
  },
  {
   "cell_type": "code",
   "execution_count": 16,
   "metadata": {},
   "outputs": [],
   "source": [
    "# Returns the subjectivity of the Tweet's text\n",
    "def getSubjectivity(text):\n",
    "   return TextBlob(text).sentiment.subjectivity"
   ]
  },
  {
   "cell_type": "code",
   "execution_count": 17,
   "metadata": {},
   "outputs": [],
   "source": [
    "# Creates a new column containing the subjectivity of every Tweet\n",
    "data[\"Subjectivity\"] = data[\"Text\"].apply(getSubjectivity)"
   ]
  },
  {
   "cell_type": "markdown",
   "metadata": {},
   "source": [
    "## Sentiment Analysis\n",
    "Polarity < 0 → negative,  \n",
    "Polarity == 0 → neutral,  \n",
    "Polarity > 0 → positive. "
   ]
  },
  {
   "cell_type": "code",
   "execution_count": 18,
   "metadata": {},
   "outputs": [],
   "source": [
    "# Returns the analysis of each Tweet's text\n",
    "def getSentiment(polarity):\n",
    "    if polarity < 0:\n",
    "      return 'Negative'\n",
    "    elif polarity == 0:\n",
    "      return 'Neutral'\n",
    "    else:\n",
    "      return 'Positive'"
   ]
  },
  {
   "cell_type": "code",
   "execution_count": 19,
   "metadata": {},
   "outputs": [],
   "source": [
    "data['Analysis'] = data['Polarity'].apply(getSentiment)"
   ]
  },
  {
   "cell_type": "code",
   "execution_count": 20,
   "metadata": {},
   "outputs": [
    {
     "data": {
      "text/html": [
       "<div>\n",
       "<style scoped>\n",
       "    .dataframe tbody tr th:only-of-type {\n",
       "        vertical-align: middle;\n",
       "    }\n",
       "\n",
       "    .dataframe tbody tr th {\n",
       "        vertical-align: top;\n",
       "    }\n",
       "\n",
       "    .dataframe thead th {\n",
       "        text-align: right;\n",
       "    }\n",
       "</style>\n",
       "<table border=\"1\" class=\"dataframe\">\n",
       "  <thead>\n",
       "    <tr style=\"text-align: right;\">\n",
       "      <th></th>\n",
       "      <th>Date</th>\n",
       "      <th>Text</th>\n",
       "      <th>Month</th>\n",
       "      <th>List of Words</th>\n",
       "      <th>Polarity</th>\n",
       "      <th>Subjectivity</th>\n",
       "      <th>Analysis</th>\n",
       "    </tr>\n",
       "  </thead>\n",
       "  <tbody>\n",
       "    <tr>\n",
       "      <th>0</th>\n",
       "      <td>2/19/20</td>\n",
       "      <td>head nurse cai liping of wuchang hospital died...</td>\n",
       "      <td>February</td>\n",
       "      <td>[head, nurse, cai, liping, wuchang, hospital, ...</td>\n",
       "      <td>0.000000</td>\n",
       "      <td>0.095833</td>\n",
       "      <td>Neutral</td>\n",
       "    </tr>\n",
       "    <tr>\n",
       "      <th>1</th>\n",
       "      <td>2/19/20</td>\n",
       "      <td>this bacteria-killing uv light robot helps a w...</td>\n",
       "      <td>February</td>\n",
       "      <td>[bacteria-killing, uv, light, robot, helps, wu...</td>\n",
       "      <td>0.400000</td>\n",
       "      <td>0.700000</td>\n",
       "      <td>Positive</td>\n",
       "    </tr>\n",
       "    <tr>\n",
       "      <th>2</th>\n",
       "      <td>2/19/20</td>\n",
       "      <td>for those that are into the business side of s...</td>\n",
       "      <td>February</td>\n",
       "      <td>[business, side, sneakers, adidas, business, r...</td>\n",
       "      <td>-0.126852</td>\n",
       "      <td>0.354630</td>\n",
       "      <td>Negative</td>\n",
       "    </tr>\n",
       "    <tr>\n",
       "      <th>3</th>\n",
       "      <td>2/19/20</td>\n",
       "      <td>how to fight against coronavirus in japan</td>\n",
       "      <td>February</td>\n",
       "      <td>[fight, coronavirus, japan]</td>\n",
       "      <td>0.000000</td>\n",
       "      <td>0.000000</td>\n",
       "      <td>Neutral</td>\n",
       "    </tr>\n",
       "    <tr>\n",
       "      <th>4</th>\n",
       "      <td>2/19/20</td>\n",
       "      <td>diseases like covid-19 are deadlier in non-dem...</td>\n",
       "      <td>February</td>\n",
       "      <td>[diseases, like, covid-19, deadlier, non-democ...</td>\n",
       "      <td>0.627500</td>\n",
       "      <td>0.832500</td>\n",
       "      <td>Positive</td>\n",
       "    </tr>\n",
       "  </tbody>\n",
       "</table>\n",
       "</div>"
      ],
      "text/plain": [
       "      Date                                               Text     Month  \\\n",
       "0  2/19/20  head nurse cai liping of wuchang hospital died...  February   \n",
       "1  2/19/20  this bacteria-killing uv light robot helps a w...  February   \n",
       "2  2/19/20  for those that are into the business side of s...  February   \n",
       "3  2/19/20          how to fight against coronavirus in japan  February   \n",
       "4  2/19/20  diseases like covid-19 are deadlier in non-dem...  February   \n",
       "\n",
       "                                       List of Words  Polarity  Subjectivity  \\\n",
       "0  [head, nurse, cai, liping, wuchang, hospital, ...  0.000000      0.095833   \n",
       "1  [bacteria-killing, uv, light, robot, helps, wu...  0.400000      0.700000   \n",
       "2  [business, side, sneakers, adidas, business, r... -0.126852      0.354630   \n",
       "3                        [fight, coronavirus, japan]  0.000000      0.000000   \n",
       "4  [diseases, like, covid-19, deadlier, non-democ...  0.627500      0.832500   \n",
       "\n",
       "   Analysis  \n",
       "0   Neutral  \n",
       "1  Positive  \n",
       "2  Negative  \n",
       "3   Neutral  \n",
       "4  Positive  "
      ]
     },
     "execution_count": 20,
     "metadata": {},
     "output_type": "execute_result"
    }
   ],
   "source": [
    "data.head()"
   ]
  },
  {
   "cell_type": "markdown",
   "metadata": {},
   "source": [
    "## Analysis"
   ]
  },
  {
   "cell_type": "markdown",
   "metadata": {},
   "source": [
    "### Analysis: Full Dataset"
   ]
  },
  {
   "cell_type": "code",
   "execution_count": 21,
   "metadata": {},
   "outputs": [],
   "source": [
    "positive_tweets = data.loc[data[\"Analysis\"] == \"Positive\"]\n",
    "neutral_tweets = data.loc[data[\"Analysis\"] == \"Neutral\"]\n",
    "negative_tweets = data.loc[data[\"Analysis\"] == \"Negative\"]"
   ]
  },
  {
   "cell_type": "code",
   "execution_count": 22,
   "metadata": {},
   "outputs": [],
   "source": [
    "positive_tweets.reset_index(drop=True, inplace=True)\n",
    "neutral_tweets.reset_index(drop=True, inplace=True)\n",
    "negative_tweets.reset_index(drop=True, inplace=True)"
   ]
  },
  {
   "cell_type": "code",
   "execution_count": 23,
   "metadata": {},
   "outputs": [
    {
     "data": {
      "text/html": [
       "<div>\n",
       "<style scoped>\n",
       "    .dataframe tbody tr th:only-of-type {\n",
       "        vertical-align: middle;\n",
       "    }\n",
       "\n",
       "    .dataframe tbody tr th {\n",
       "        vertical-align: top;\n",
       "    }\n",
       "\n",
       "    .dataframe thead th {\n",
       "        text-align: right;\n",
       "    }\n",
       "</style>\n",
       "<table border=\"1\" class=\"dataframe\">\n",
       "  <thead>\n",
       "    <tr style=\"text-align: right;\">\n",
       "      <th></th>\n",
       "      <th>Date</th>\n",
       "      <th>Text</th>\n",
       "      <th>Month</th>\n",
       "      <th>List of Words</th>\n",
       "      <th>Polarity</th>\n",
       "      <th>Subjectivity</th>\n",
       "      <th>Analysis</th>\n",
       "    </tr>\n",
       "  </thead>\n",
       "  <tbody>\n",
       "    <tr>\n",
       "      <th>0</th>\n",
       "      <td>2/19/20</td>\n",
       "      <td>this bacteria-killing uv light robot helps a w...</td>\n",
       "      <td>February</td>\n",
       "      <td>[bacteria-killing, uv, light, robot, helps, wu...</td>\n",
       "      <td>0.4000</td>\n",
       "      <td>0.7000</td>\n",
       "      <td>Positive</td>\n",
       "    </tr>\n",
       "    <tr>\n",
       "      <th>1</th>\n",
       "      <td>2/19/20</td>\n",
       "      <td>diseases like covid-19 are deadlier in non-dem...</td>\n",
       "      <td>February</td>\n",
       "      <td>[diseases, like, covid-19, deadlier, non-democ...</td>\n",
       "      <td>0.6275</td>\n",
       "      <td>0.8325</td>\n",
       "      <td>Positive</td>\n",
       "    </tr>\n",
       "    <tr>\n",
       "      <th>2</th>\n",
       "      <td>2/19/20</td>\n",
       "      <td>the world's most comprehensive site addressing...</td>\n",
       "      <td>February</td>\n",
       "      <td>[world, 's, comprehensive, site, addressing, a...</td>\n",
       "      <td>0.5000</td>\n",
       "      <td>0.5000</td>\n",
       "      <td>Positive</td>\n",
       "    </tr>\n",
       "    <tr>\n",
       "      <th>3</th>\n",
       "      <td>2/19/20</td>\n",
       "      <td>. \"12,000 people have died from influenza betw...</td>\n",
       "      <td>February</td>\n",
       "      <td>[``, 12,000, people, died, influenza, oct., 1,...</td>\n",
       "      <td>0.1600</td>\n",
       "      <td>0.5400</td>\n",
       "      <td>Positive</td>\n",
       "    </tr>\n",
       "    <tr>\n",
       "      <th>4</th>\n",
       "      <td>2/19/20</td>\n",
       "      <td>coronavirus chaos can prompt a needed rethink ...</td>\n",
       "      <td>February</td>\n",
       "      <td>[coronavirus, chaos, prompt, needed, rethink, ...</td>\n",
       "      <td>0.1000</td>\n",
       "      <td>0.1000</td>\n",
       "      <td>Positive</td>\n",
       "    </tr>\n",
       "  </tbody>\n",
       "</table>\n",
       "</div>"
      ],
      "text/plain": [
       "      Date                                               Text     Month  \\\n",
       "0  2/19/20  this bacteria-killing uv light robot helps a w...  February   \n",
       "1  2/19/20  diseases like covid-19 are deadlier in non-dem...  February   \n",
       "2  2/19/20  the world's most comprehensive site addressing...  February   \n",
       "3  2/19/20  . \"12,000 people have died from influenza betw...  February   \n",
       "4  2/19/20  coronavirus chaos can prompt a needed rethink ...  February   \n",
       "\n",
       "                                       List of Words  Polarity  Subjectivity  \\\n",
       "0  [bacteria-killing, uv, light, robot, helps, wu...    0.4000        0.7000   \n",
       "1  [diseases, like, covid-19, deadlier, non-democ...    0.6275        0.8325   \n",
       "2  [world, 's, comprehensive, site, addressing, a...    0.5000        0.5000   \n",
       "3  [``, 12,000, people, died, influenza, oct., 1,...    0.1600        0.5400   \n",
       "4  [coronavirus, chaos, prompt, needed, rethink, ...    0.1000        0.1000   \n",
       "\n",
       "   Analysis  \n",
       "0  Positive  \n",
       "1  Positive  \n",
       "2  Positive  \n",
       "3  Positive  \n",
       "4  Positive  "
      ]
     },
     "execution_count": 23,
     "metadata": {},
     "output_type": "execute_result"
    }
   ],
   "source": [
    "positive_tweets.head()"
   ]
  },
  {
   "cell_type": "code",
   "execution_count": 24,
   "metadata": {},
   "outputs": [
    {
     "data": {
      "text/plain": [
       "0    head nurse cai liping of wuchang hospital died...\n",
       "1            how to fight against coronavirus in japan\n",
       "2    indonesian mfa is pressuring japanese authorit...\n",
       "3    someone on nm senate floor just asked if \"coro...\n",
       "4    \"open access epidemiological data from the cov...\n",
       "Name: Text, dtype: object"
      ]
     },
     "execution_count": 24,
     "metadata": {},
     "output_type": "execute_result"
    }
   ],
   "source": [
    "neutral_tweets[\"Text\"].head()"
   ]
  },
  {
   "cell_type": "code",
   "execution_count": 25,
   "metadata": {},
   "outputs": [
    {
     "data": {
      "text/html": [
       "<div>\n",
       "<style scoped>\n",
       "    .dataframe tbody tr th:only-of-type {\n",
       "        vertical-align: middle;\n",
       "    }\n",
       "\n",
       "    .dataframe tbody tr th {\n",
       "        vertical-align: top;\n",
       "    }\n",
       "\n",
       "    .dataframe thead th {\n",
       "        text-align: right;\n",
       "    }\n",
       "</style>\n",
       "<table border=\"1\" class=\"dataframe\">\n",
       "  <thead>\n",
       "    <tr style=\"text-align: right;\">\n",
       "      <th></th>\n",
       "      <th>Date</th>\n",
       "      <th>Text</th>\n",
       "      <th>Month</th>\n",
       "      <th>List of Words</th>\n",
       "      <th>Polarity</th>\n",
       "      <th>Subjectivity</th>\n",
       "      <th>Analysis</th>\n",
       "    </tr>\n",
       "  </thead>\n",
       "  <tbody>\n",
       "    <tr>\n",
       "      <th>0</th>\n",
       "      <td>2/19/20</td>\n",
       "      <td>for those that are into the business side of s...</td>\n",
       "      <td>February</td>\n",
       "      <td>[business, side, sneakers, adidas, business, r...</td>\n",
       "      <td>-0.126852</td>\n",
       "      <td>0.354630</td>\n",
       "      <td>Negative</td>\n",
       "    </tr>\n",
       "    <tr>\n",
       "      <th>1</th>\n",
       "      <td>2/19/20</td>\n",
       "      <td>infectivity 60% those who need hospital care 1...</td>\n",
       "      <td>February</td>\n",
       "      <td>[infectivity, 60, need, hospital, care, 15, 2,...</td>\n",
       "      <td>-0.482143</td>\n",
       "      <td>0.628571</td>\n",
       "      <td>Negative</td>\n",
       "    </tr>\n",
       "    <tr>\n",
       "      <th>2</th>\n",
       "      <td>2/19/20</td>\n",
       "      <td>im rly annoyed with coronavirus racism my frie...</td>\n",
       "      <td>February</td>\n",
       "      <td>[im, rly, annoyed, coronavirus, racism, friend...</td>\n",
       "      <td>-0.104762</td>\n",
       "      <td>0.176190</td>\n",
       "      <td>Negative</td>\n",
       "    </tr>\n",
       "    <tr>\n",
       "      <th>3</th>\n",
       "      <td>2/19/20</td>\n",
       "      <td>\"one flu is bad enough. a second flu would be ...</td>\n",
       "      <td>February</td>\n",
       "      <td>[``, one, flu, bad, enough, second, flu, would...</td>\n",
       "      <td>-0.201477</td>\n",
       "      <td>0.575455</td>\n",
       "      <td>Negative</td>\n",
       "    </tr>\n",
       "    <tr>\n",
       "      <th>4</th>\n",
       "      <td>2/19/20</td>\n",
       "      <td>to all the xbots that couldn’t control your fa...</td>\n",
       "      <td>February</td>\n",
       "      <td>[xbots, ’, control, fanboyism, coronavirus, th...</td>\n",
       "      <td>-0.200000</td>\n",
       "      <td>0.800000</td>\n",
       "      <td>Negative</td>\n",
       "    </tr>\n",
       "  </tbody>\n",
       "</table>\n",
       "</div>"
      ],
      "text/plain": [
       "      Date                                               Text     Month  \\\n",
       "0  2/19/20  for those that are into the business side of s...  February   \n",
       "1  2/19/20  infectivity 60% those who need hospital care 1...  February   \n",
       "2  2/19/20  im rly annoyed with coronavirus racism my frie...  February   \n",
       "3  2/19/20  \"one flu is bad enough. a second flu would be ...  February   \n",
       "4  2/19/20  to all the xbots that couldn’t control your fa...  February   \n",
       "\n",
       "                                       List of Words  Polarity  Subjectivity  \\\n",
       "0  [business, side, sneakers, adidas, business, r... -0.126852      0.354630   \n",
       "1  [infectivity, 60, need, hospital, care, 15, 2,... -0.482143      0.628571   \n",
       "2  [im, rly, annoyed, coronavirus, racism, friend... -0.104762      0.176190   \n",
       "3  [``, one, flu, bad, enough, second, flu, would... -0.201477      0.575455   \n",
       "4  [xbots, ’, control, fanboyism, coronavirus, th... -0.200000      0.800000   \n",
       "\n",
       "   Analysis  \n",
       "0  Negative  \n",
       "1  Negative  \n",
       "2  Negative  \n",
       "3  Negative  \n",
       "4  Negative  "
      ]
     },
     "execution_count": 25,
     "metadata": {},
     "output_type": "execute_result"
    }
   ],
   "source": [
    "negative_tweets.head()"
   ]
  },
  {
   "cell_type": "code",
   "execution_count": 26,
   "metadata": {},
   "outputs": [
    {
     "data": {
      "image/png": "[encoded data removed]",
      "text/plain": [
       "<Figure size 432x288 with 1 Axes>"
      ]
     },
     "metadata": {
      "needs_background": "light"
     },
     "output_type": "display_data"
    },
    {
     "data": {
      "image/png": "[encoded data removed]",
      "text/plain": [
       "<Figure size 432x288 with 1 Axes>"
      ]
     },
     "metadata": {
      "needs_background": "light"
     },
     "output_type": "display_data"
    },
    {
     "data": {
      "image/png": "[encoded data removed]",
      "text/plain": [
       "<Figure size 432x288 with 1 Axes>"
      ]
     },
     "metadata": {
      "needs_background": "light"
     },
     "output_type": "display_data"
    }
   ],
   "source": [
    "# Positive Tweets\n",
    "plt.scatter(positive_tweets[\"Polarity\"], positive_tweets[\"Subjectivity\"])\n",
    "\n",
    "plt.title('Sentiment Analysis of Positive Tweets') \n",
    "plt.xlabel('Polarity') \n",
    "plt.ylabel('Subjectivity') \n",
    "plt.show()\n",
    "\n",
    "# Neutral Tweets\n",
    "plt.scatter(neutral_tweets[\"Polarity\"], neutral_tweets[\"Subjectivity\"])\n",
    "\n",
    "plt.title('Sentiment Analysis of Neutral Tweets') \n",
    "plt.xlabel('Polarity') \n",
    "plt.ylabel('Subjectivity') \n",
    "plt.show()\n",
    "\n",
    "# Negative Tweets\n",
    "plt.scatter(negative_tweets[\"Polarity\"], negative_tweets[\"Subjectivity\"])\n",
    "\n",
    "plt.title('Sentiment Analysis of Negative Tweets') \n",
    "plt.xlabel('Polarity') \n",
    "plt.ylabel('Subjectivity')\n",
    "plt.show()"
   ]
  },
  {
   "cell_type": "code",
   "execution_count": 27,
   "metadata": {},
   "outputs": [
    {
     "name": "stdout",
     "output_type": "stream",
     "text": [
      "Positive    3417\n",
      "Neutral     2265\n",
      "Negative    1818\n",
      "Name: Analysis, dtype: int64\n",
      "Total: 7500\n",
      "\n",
      "Percentage of positive Tweets: 0.4556\n",
      "\n",
      "Percentage of neutral Tweets: 0.302\n",
      "\n",
      "Percentage of negative Tweets: 0.2424\n"
     ]
    }
   ],
   "source": [
    "print(data[\"Analysis\"].value_counts())\n",
    "print(\"Total:\", data.shape[0])\n",
    "print()\n",
    "\n",
    "print(\"Percentage of positive Tweets:\", (positive_tweets.shape[0] / data.shape[0]))\n",
    "print()\n",
    "\n",
    "print(\"Percentage of neutral Tweets:\", (neutral_tweets.shape[0] / data.shape[0]))\n",
    "print()\n",
    "\n",
    "print(\"Percentage of negative Tweets:\", (negative_tweets.shape[0] / data.shape[0]))"
   ]
  },
  {
   "cell_type": "code",
   "execution_count": 28,
   "metadata": {},
   "outputs": [
    {
     "data": {
      "image/png": "[encoded data removed]",
      "text/plain": [
       "<Figure size 432x288 with 1 Axes>"
      ]
     },
     "metadata": {
      "needs_background": "light"
     },
     "output_type": "display_data"
    }
   ],
   "source": [
    "plt.title(\"Sentiment Analysis: Full Dataset\")\n",
    "plt.xlabel(\"Sentiment\")\n",
    "plt.ylabel(\"Number of Tweets\")\n",
    "data[\"Analysis\"].value_counts().plot(kind = \"bar\")\n",
    "plt.show()"
   ]
  },
  {
   "cell_type": "code",
   "execution_count": 29,
   "metadata": {},
   "outputs": [
    {
     "data": {
      "image/png": "[encoded data removed]",
      "text/plain": [
       "<Figure size 432x288 with 1 Axes>"
      ]
     },
     "metadata": {
      "needs_background": "light"
     },
     "output_type": "display_data"
    }
   ],
   "source": [
    "plt.title(\"Sentiment Analysis (Percentage): Full Dataset\")\n",
    "plt.xlabel(\"Sentiment\")\n",
    "plt.ylabel(\"Percentage of Total Tweets\")\n",
    "((data[\"Analysis\"].value_counts())/data.shape[0]).plot(kind = \"bar\")\n",
    "plt.show()"
   ]
  },
  {
   "cell_type": "markdown",
   "metadata": {},
   "source": [
    "### Analysis: Monthly"
   ]
  },
  {
   "cell_type": "code",
   "execution_count": 30,
   "metadata": {},
   "outputs": [],
   "source": [
    "months = list(dict.fromkeys(data[\"Month\"].values))\n",
    "sentiments = list(dict.fromkeys(data[\"Analysis\"].values))\n",
    "sentiment_colors = {\"Positive\": \"Blue\", \"Negative\": \"Red\", \"Neutral\": \"Gray\"}"
   ]
  },
  {
   "cell_type": "code",
   "execution_count": 31,
   "metadata": {},
   "outputs": [
    {
     "data": {
      "image/png": "[encoded data removed]",
      "text/plain": [
       "<Figure size 432x288 with 1 Axes>"
      ]
     },
     "metadata": {
      "needs_background": "light"
     },
     "output_type": "display_data"
    },
    {
     "data": {
      "image/png": "[encoded data removed]",
      "text/plain": [
       "<Figure size 432x288 with 1 Axes>"
      ]
     },
     "metadata": {
      "needs_background": "light"
     },
     "output_type": "display_data"
    },
    {
     "data": {
      "image/png": "[encoded data removed]",
      "text/plain": [
       "<Figure size 432x288 with 1 Axes>"
      ]
     },
     "metadata": {
      "needs_background": "light"
     },
     "output_type": "display_data"
    }
   ],
   "source": [
    "for month in months:\n",
    "    month_tweets = data.loc[data[\"Month\"] == month]\n",
    "    plt.title(\"Sentiment Analysis: \" + month)\n",
    "    plt.xlabel(\"Sentiment\")\n",
    "    plt.ylabel(\"Percentage of Total Tweets\")\n",
    "    ((month_tweets[\"Analysis\"].value_counts())/data.shape[0]).plot(kind = 'bar')\n",
    "    plt.show()"
   ]
  },
  {
   "cell_type": "code",
   "execution_count": 32,
   "metadata": {},
   "outputs": [
    {
     "data": {
      "image/png": "[encoded data removed]",
      "text/plain": [
       "<Figure size 432x288 with 1 Axes>"
      ]
     },
     "metadata": {
      "needs_background": "light"
     },
     "output_type": "display_data"
    },
    {
     "data": {
      "image/png": "[encoded data removed]",
      "text/plain": [
       "<Figure size 432x288 with 1 Axes>"
      ]
     },
     "metadata": {
      "needs_background": "light"
     },
     "output_type": "display_data"
    },
    {
     "data": {
      "image/png": "[encoded data removed]",
      "text/plain": [
       "<Figure size 432x288 with 1 Axes>"
      ]
     },
     "metadata": {
      "needs_background": "light"
     },
     "output_type": "display_data"
    }
   ],
   "source": [
    "for sentiment in sentiments:\n",
    "    month_percentages = []\n",
    "    sentiment_tweets = data.loc[data[\"Analysis\"] == sentiment]\n",
    "    plt.title(\"Sentiment Analysis: \" + sentiment)\n",
    "    plt.xlabel(\"Sentiment\")\n",
    "    plt.ylabel(\"Percentage of Total Tweets\")\n",
    "    for month in months:\n",
    "        month_tweets = sentiment_tweets.loc[sentiment_tweets[\"Month\"] == month]\n",
    "        month_percentages.append(month_tweets[\"Analysis\"].value_counts()/data.shape[0])\n",
    "    plt.scatter(months, month_percentages) \n",
    "    plt.show()"
   ]
  },
  {
   "cell_type": "code",
   "execution_count": 33,
   "metadata": {},
   "outputs": [
    {
     "data": {
      "image/png": "[encoded data removed]",
      "text/plain": [
       "<Figure size 432x288 with 1 Axes>"
      ]
     },
     "metadata": {
      "needs_background": "light"
     },
     "output_type": "display_data"
    }
   ],
   "source": [
    "plt.title(\"Sentiment Analysis\")\n",
    "plt.xlabel(\"Sentiment\")\n",
    "plt.ylabel(\"Percentage of Total Tweets\")\n",
    "    \n",
    "for sentiment in sentiments:\n",
    "    month_percentages = []\n",
    "    sentiment_tweets = data.loc[data[\"Analysis\"] == sentiment]\n",
    "    for month in months:\n",
    "        month_tweets = sentiment_tweets.loc[sentiment_tweets[\"Month\"] == month]\n",
    "        month_percentages.append(month_tweets[\"Analysis\"].value_counts()/data.shape[0])\n",
    "    plt.scatter(months, month_percentages, c = sentiment_colors[sentiment]) \n",
    "    plt.plot(months, month_percentages, c = sentiment_colors[sentiment])\n",
    "plt.show()"
   ]
  },
  {
   "cell_type": "markdown",
   "metadata": {},
   "source": [
    "## Naive Bayes Classification"
   ]
  },
  {
   "cell_type": "markdown",
   "metadata": {},
   "source": [
    "### Training the model"
   ]
  },
  {
   "cell_type": "code",
   "execution_count": 34,
   "metadata": {},
   "outputs": [],
   "source": [
    "corpus = pd.read_csv(\"Data/full_corpus.csv\")\n",
    "\n",
    "corpus[\"TweetText\"] = corpus[\"TweetText\"].apply(cleanText)\n",
    "corpus[\"List of Words\"] = corpus[\"TweetText\"].apply(convertToList)"
   ]
  },
  {
   "cell_type": "code",
   "execution_count": 35,
   "metadata": {},
   "outputs": [
    {
     "data": {
      "text/html": [
       "<div>\n",
       "<style scoped>\n",
       "    .dataframe tbody tr th:only-of-type {\n",
       "        vertical-align: middle;\n",
       "    }\n",
       "\n",
       "    .dataframe tbody tr th {\n",
       "        vertical-align: top;\n",
       "    }\n",
       "\n",
       "    .dataframe thead th {\n",
       "        text-align: right;\n",
       "    }\n",
       "</style>\n",
       "<table border=\"1\" class=\"dataframe\">\n",
       "  <thead>\n",
       "    <tr style=\"text-align: right;\">\n",
       "      <th></th>\n",
       "      <th>Topic</th>\n",
       "      <th>Sentiment</th>\n",
       "      <th>TweetId</th>\n",
       "      <th>TweetDate</th>\n",
       "      <th>TweetText</th>\n",
       "      <th>List of Words</th>\n",
       "    </tr>\n",
       "  </thead>\n",
       "  <tbody>\n",
       "    <tr>\n",
       "      <th>0</th>\n",
       "      <td>apple</td>\n",
       "      <td>positive</td>\n",
       "      <td>126415614616154112</td>\n",
       "      <td>Tue Oct 18 21:53:25 +0000 2011</td>\n",
       "      <td>now all  has to do is get swype on the iphone ...</td>\n",
       "      <td>[get, swype, iphone, crack, iphone]</td>\n",
       "    </tr>\n",
       "    <tr>\n",
       "      <th>1</th>\n",
       "      <td>apple</td>\n",
       "      <td>positive</td>\n",
       "      <td>126404574230740992</td>\n",
       "      <td>Tue Oct 18 21:09:33 +0000 2011</td>\n",
       "      <td>will be adding more carrier support to the ip...</td>\n",
       "      <td>[adding, carrier, support, iphone, 4s, announced]</td>\n",
       "    </tr>\n",
       "    <tr>\n",
       "      <th>2</th>\n",
       "      <td>apple</td>\n",
       "      <td>positive</td>\n",
       "      <td>126402758403305474</td>\n",
       "      <td>Tue Oct 18 21:02:20 +0000 2011</td>\n",
       "      <td>hilarious  video - guy does a duet with  's si...</td>\n",
       "      <td>[hilarious, video, guy, duet, 's, siri, pretty...</td>\n",
       "    </tr>\n",
       "    <tr>\n",
       "      <th>3</th>\n",
       "      <td>apple</td>\n",
       "      <td>positive</td>\n",
       "      <td>126397179614068736</td>\n",
       "      <td>Tue Oct 18 20:40:10 +0000 2011</td>\n",
       "      <td>you made it too easy for me to switch to  iph...</td>\n",
       "      <td>[made, easy, switch, iphone, see, ya]</td>\n",
       "    </tr>\n",
       "    <tr>\n",
       "      <th>4</th>\n",
       "      <td>apple</td>\n",
       "      <td>positive</td>\n",
       "      <td>126395626979196928</td>\n",
       "      <td>Tue Oct 18 20:34:00 +0000 2011</td>\n",
       "      <td>i just realized that the reason i got into twi...</td>\n",
       "      <td>[realized, reason, got, twitter, ios5, thanks]</td>\n",
       "    </tr>\n",
       "  </tbody>\n",
       "</table>\n",
       "</div>"
      ],
      "text/plain": [
       "   Topic Sentiment             TweetId                       TweetDate  \\\n",
       "0  apple  positive  126415614616154112  Tue Oct 18 21:53:25 +0000 2011   \n",
       "1  apple  positive  126404574230740992  Tue Oct 18 21:09:33 +0000 2011   \n",
       "2  apple  positive  126402758403305474  Tue Oct 18 21:02:20 +0000 2011   \n",
       "3  apple  positive  126397179614068736  Tue Oct 18 20:40:10 +0000 2011   \n",
       "4  apple  positive  126395626979196928  Tue Oct 18 20:34:00 +0000 2011   \n",
       "\n",
       "                                           TweetText  \\\n",
       "0  now all  has to do is get swype on the iphone ...   \n",
       "1   will be adding more carrier support to the ip...   \n",
       "2  hilarious  video - guy does a duet with  's si...   \n",
       "3   you made it too easy for me to switch to  iph...   \n",
       "4  i just realized that the reason i got into twi...   \n",
       "\n",
       "                                       List of Words  \n",
       "0                [get, swype, iphone, crack, iphone]  \n",
       "1  [adding, carrier, support, iphone, 4s, announced]  \n",
       "2  [hilarious, video, guy, duet, 's, siri, pretty...  \n",
       "3              [made, easy, switch, iphone, see, ya]  \n",
       "4     [realized, reason, got, twitter, ios5, thanks]  "
      ]
     },
     "execution_count": 35,
     "metadata": {},
     "output_type": "execute_result"
    }
   ],
   "source": [
    "corpus.head()"
   ]
  },
  {
   "cell_type": "code",
   "execution_count": 36,
   "metadata": {},
   "outputs": [
    {
     "name": "stdout",
     "output_type": "stream",
     "text": [
      "(5113, 6)\n",
      "(4857, 6)\n",
      "(256, 6)\n"
     ]
    }
   ],
   "source": [
    "training_data, testing_data = train_test_split(corpus, test_size = 0.05)\n",
    "\n",
    "print(corpus.shape)\n",
    "print(training_data.shape)\n",
    "print(testing_data.shape)"
   ]
  },
  {
   "cell_type": "code",
   "execution_count": 37,
   "metadata": {},
   "outputs": [],
   "source": [
    "training_data_list = []\n",
    "for index, row in training_data.iterrows():\n",
    "    training_data_list.append((row[\"TweetText\"], row[\"Sentiment\"]))\n",
    "\n",
    "testing_data_list = []\n",
    "for index, row in testing_data.iterrows():\n",
    "    testing_data_list.append((row[\"TweetText\"], row[\"Sentiment\"]))"
   ]
  },
  {
   "cell_type": "code",
   "execution_count": 38,
   "metadata": {},
   "outputs": [],
   "source": [
    "# This function was adapted from https://towardsdatascience.com/creating-the-twitter-sentiment-analysis-program-in-python-with-naive-bayes-classification-672e5589a7ed\n",
    "# (The resource above is open source).\n",
    "def build(input_data):\n",
    "    world_list = []\n",
    "    \n",
    "    for (words, sentiment) in input_data:\n",
    "        world_list.extend(words)\n",
    "\n",
    "    words = nltk.FreqDist(world_list)\n",
    "    word_features = words.keys()\n",
    "    \n",
    "    return word_features"
   ]
  },
  {
   "cell_type": "code",
   "execution_count": 39,
   "metadata": {},
   "outputs": [],
   "source": [
    "# This function was adapted from https://towardsdatascience.com/creating-the-twitter-sentiment-analysis-program-in-python-with-naive-bayes-classification-672e5589a7ed\n",
    "# (The resource above is open source).\n",
    "def get_features(text):\n",
    "    words = set(text)\n",
    "    features = {}\n",
    "    \n",
    "    for word in word_features:\n",
    "        features['contains(%s)' % word] = (word in words)\n",
    "        \n",
    "    return features "
   ]
  },
  {
   "cell_type": "code",
   "execution_count": 40,
   "metadata": {},
   "outputs": [],
   "source": [
    "word_features = build(training_data_list)\n",
    "training_features = nltk.classify.apply_features(get_features, training_data_list)"
   ]
  },
  {
   "cell_type": "code",
   "execution_count": 41,
   "metadata": {},
   "outputs": [],
   "source": [
    "naive_bayes_classifier = nltk.NaiveBayesClassifier.train(training_features)"
   ]
  },
  {
   "cell_type": "code",
   "execution_count": 42,
   "metadata": {},
   "outputs": [],
   "source": [
    "# This piece of code was suggested in https://towardsdatascience.com/creating-the-twitter-sentiment-analysis-program-in-python-with-naive-bayes-classification-672e5589a7ed\n",
    "classifier_result_labels = [naive_bayes_classifier.classify(get_features(tweet[0])) for tweet in testing_data_list]\n"
   ]
  },
  {
   "cell_type": "code",
   "execution_count": 43,
   "metadata": {},
   "outputs": [
    {
     "name": "stdout",
     "output_type": "stream",
     "text": [
      "Percentage of Positive Sentiments: 0.0078125\n",
      "\n",
      "Percentage of Negative Sentiments: 0.0546875\n"
     ]
    }
   ],
   "source": [
    "print(\"Percentage of Positive Sentiments:\", classifier_result_labels.count('positive') / testing_data.shape[0])\n",
    "print()\n",
    "print(\"Percentage of Negative Sentiments:\", classifier_result_labels.count('negative') / testing_data.shape[0])\n"
   ]
  },
  {
   "cell_type": "markdown",
   "metadata": {},
   "source": [
    "### Applying the Model to Covid-19 Twitter Data"
   ]
  },
  {
   "cell_type": "code",
   "execution_count": 44,
   "metadata": {},
   "outputs": [],
   "source": [
    "# training_data, testing_data = train_test_split(data, test_size = 0.2)"
   ]
  },
  {
   "cell_type": "code",
   "execution_count": 45,
   "metadata": {},
   "outputs": [
    {
     "name": "stdout",
     "output_type": "stream",
     "text": [
      "(7500, 7)\n",
      "(4857, 6)\n",
      "(256, 6)\n"
     ]
    }
   ],
   "source": [
    "print(data.shape)\n",
    "print(training_data.shape)\n",
    "print(testing_data.shape)"
   ]
  },
  {
   "cell_type": "code",
   "execution_count": 46,
   "metadata": {},
   "outputs": [],
   "source": [
    "# word_features = build(training_data_list)\n",
    "# training_features = nltk.classify.apply_features(get_features, training_data_list)"
   ]
  },
  {
   "cell_type": "code",
   "execution_count": 47,
   "metadata": {},
   "outputs": [],
   "source": [
    "# naive_bayes_classifier = nltk.NaiveBayesClassifier.train(training_features)"
   ]
  },
  {
   "cell_type": "code",
   "execution_count": 48,
   "metadata": {},
   "outputs": [],
   "source": [
    "# This piece of code was suggested in https://towardsdatascience.com/creating-the-twitter-sentiment-analysis-program-in-python-with-naive-bayes-classification-672e5589a7ed\n",
    "covid_classifier_labels = [naive_bayes_classifier.classify(get_features(row[3])) for index, row in data.iterrows()]"
   ]
  },
  {
   "cell_type": "code",
   "execution_count": 49,
   "metadata": {},
   "outputs": [],
   "source": [
    "data[\"Classification\"] = covid_classifier_labels\n",
    "data[\"Ensemble\"] = covid_classifier_labels # temporary"
   ]
  },
  {
   "cell_type": "code",
   "execution_count": 50,
   "metadata": {},
   "outputs": [],
   "source": [
    "for index, row in data.iterrows():\n",
    "    if row[\"Polarity\"] < -0.2:\n",
    "        row[\"Ensemble\"] = \"negative\"\n",
    "    elif row[\"Polarity\"] > 0.2 and row[\"Classification\"] == \"neutral\":\n",
    "        row[\"Ensemble\"] = \"positive\""
   ]
  },
  {
   "cell_type": "code",
   "execution_count": 51,
   "metadata": {},
   "outputs": [],
   "source": [
    "data.loc[data[\"Polarity\"] < -0.2, \"Ensemble\"] = \"negative\"\n",
    "data.loc[data[\"Polarity\"] > 0.2, \"Ensemble\"] = \"positive\""
   ]
  },
  {
   "cell_type": "code",
   "execution_count": 52,
   "metadata": {
    "scrolled": true
   },
   "outputs": [
    {
     "name": "stdout",
     "output_type": "stream",
     "text": [
      "neutral       5162\n",
      "positive      1659\n",
      "negative       622\n",
      "irrelevant      57\n",
      "Name: Ensemble, dtype: int64\n"
     ]
    }
   ],
   "source": [
    "print(data[\"Ensemble\"].value_counts())"
   ]
  },
  {
   "cell_type": "markdown",
   "metadata": {},
   "source": [
    "## Covid Cases"
   ]
  },
  {
   "cell_type": "code",
   "execution_count": 53,
   "metadata": {},
   "outputs": [],
   "source": [
    "confirmed = pd.read_csv('Data/covid_confirmed.csv')\n",
    "recovered = pd.read_csv('Data/covid_recovered.csv')\n",
    "deaths = pd.read_csv('Data/covid_deaths.csv')"
   ]
  },
  {
   "cell_type": "code",
   "execution_count": 54,
   "metadata": {},
   "outputs": [
    {
     "data": {
      "text/html": [
       "<div>\n",
       "<style scoped>\n",
       "    .dataframe tbody tr th:only-of-type {\n",
       "        vertical-align: middle;\n",
       "    }\n",
       "\n",
       "    .dataframe tbody tr th {\n",
       "        vertical-align: top;\n",
       "    }\n",
       "\n",
       "    .dataframe thead th {\n",
       "        text-align: right;\n",
       "    }\n",
       "</style>\n",
       "<table border=\"1\" class=\"dataframe\">\n",
       "  <thead>\n",
       "    <tr style=\"text-align: right;\">\n",
       "      <th></th>\n",
       "      <th>Province/State</th>\n",
       "      <th>Country/Region</th>\n",
       "      <th>Lat</th>\n",
       "      <th>Long</th>\n",
       "      <th>1/22/20</th>\n",
       "      <th>1/23/20</th>\n",
       "      <th>1/24/20</th>\n",
       "      <th>1/25/20</th>\n",
       "      <th>1/26/20</th>\n",
       "      <th>1/27/20</th>\n",
       "      <th>...</th>\n",
       "      <th>5/1/20</th>\n",
       "      <th>5/2/20</th>\n",
       "      <th>5/3/20</th>\n",
       "      <th>5/4/20</th>\n",
       "      <th>5/5/20</th>\n",
       "      <th>5/6/20</th>\n",
       "      <th>5/7/20</th>\n",
       "      <th>5/8/20</th>\n",
       "      <th>5/9/20</th>\n",
       "      <th>5/10/20</th>\n",
       "    </tr>\n",
       "  </thead>\n",
       "  <tbody>\n",
       "    <tr>\n",
       "      <th>0</th>\n",
       "      <td>NaN</td>\n",
       "      <td>Afghanistan</td>\n",
       "      <td>33.0000</td>\n",
       "      <td>65.0000</td>\n",
       "      <td>0</td>\n",
       "      <td>0</td>\n",
       "      <td>0</td>\n",
       "      <td>0</td>\n",
       "      <td>0</td>\n",
       "      <td>0</td>\n",
       "      <td>...</td>\n",
       "      <td>2335</td>\n",
       "      <td>2469</td>\n",
       "      <td>2704</td>\n",
       "      <td>2894</td>\n",
       "      <td>3224</td>\n",
       "      <td>3392</td>\n",
       "      <td>3563</td>\n",
       "      <td>3778</td>\n",
       "      <td>4033</td>\n",
       "      <td>4402</td>\n",
       "    </tr>\n",
       "    <tr>\n",
       "      <th>1</th>\n",
       "      <td>NaN</td>\n",
       "      <td>Albania</td>\n",
       "      <td>41.1533</td>\n",
       "      <td>20.1683</td>\n",
       "      <td>0</td>\n",
       "      <td>0</td>\n",
       "      <td>0</td>\n",
       "      <td>0</td>\n",
       "      <td>0</td>\n",
       "      <td>0</td>\n",
       "      <td>...</td>\n",
       "      <td>782</td>\n",
       "      <td>789</td>\n",
       "      <td>795</td>\n",
       "      <td>803</td>\n",
       "      <td>820</td>\n",
       "      <td>832</td>\n",
       "      <td>842</td>\n",
       "      <td>850</td>\n",
       "      <td>856</td>\n",
       "      <td>868</td>\n",
       "    </tr>\n",
       "    <tr>\n",
       "      <th>2</th>\n",
       "      <td>NaN</td>\n",
       "      <td>Algeria</td>\n",
       "      <td>28.0339</td>\n",
       "      <td>1.6596</td>\n",
       "      <td>0</td>\n",
       "      <td>0</td>\n",
       "      <td>0</td>\n",
       "      <td>0</td>\n",
       "      <td>0</td>\n",
       "      <td>0</td>\n",
       "      <td>...</td>\n",
       "      <td>4154</td>\n",
       "      <td>4295</td>\n",
       "      <td>4474</td>\n",
       "      <td>4648</td>\n",
       "      <td>4838</td>\n",
       "      <td>4997</td>\n",
       "      <td>5182</td>\n",
       "      <td>5369</td>\n",
       "      <td>5558</td>\n",
       "      <td>5723</td>\n",
       "    </tr>\n",
       "    <tr>\n",
       "      <th>3</th>\n",
       "      <td>NaN</td>\n",
       "      <td>Andorra</td>\n",
       "      <td>42.5063</td>\n",
       "      <td>1.5218</td>\n",
       "      <td>0</td>\n",
       "      <td>0</td>\n",
       "      <td>0</td>\n",
       "      <td>0</td>\n",
       "      <td>0</td>\n",
       "      <td>0</td>\n",
       "      <td>...</td>\n",
       "      <td>745</td>\n",
       "      <td>747</td>\n",
       "      <td>748</td>\n",
       "      <td>750</td>\n",
       "      <td>751</td>\n",
       "      <td>751</td>\n",
       "      <td>752</td>\n",
       "      <td>752</td>\n",
       "      <td>754</td>\n",
       "      <td>755</td>\n",
       "    </tr>\n",
       "    <tr>\n",
       "      <th>4</th>\n",
       "      <td>NaN</td>\n",
       "      <td>Angola</td>\n",
       "      <td>-11.2027</td>\n",
       "      <td>17.8739</td>\n",
       "      <td>0</td>\n",
       "      <td>0</td>\n",
       "      <td>0</td>\n",
       "      <td>0</td>\n",
       "      <td>0</td>\n",
       "      <td>0</td>\n",
       "      <td>...</td>\n",
       "      <td>30</td>\n",
       "      <td>35</td>\n",
       "      <td>35</td>\n",
       "      <td>35</td>\n",
       "      <td>36</td>\n",
       "      <td>36</td>\n",
       "      <td>36</td>\n",
       "      <td>43</td>\n",
       "      <td>43</td>\n",
       "      <td>45</td>\n",
       "    </tr>\n",
       "  </tbody>\n",
       "</table>\n",
       "<p>5 rows × 114 columns</p>\n",
       "</div>"
      ],
      "text/plain": [
       "  Province/State Country/Region      Lat     Long  1/22/20  1/23/20  1/24/20  \\\n",
       "0            NaN    Afghanistan  33.0000  65.0000        0        0        0   \n",
       "1            NaN        Albania  41.1533  20.1683        0        0        0   \n",
       "2            NaN        Algeria  28.0339   1.6596        0        0        0   \n",
       "3            NaN        Andorra  42.5063   1.5218        0        0        0   \n",
       "4            NaN         Angola -11.2027  17.8739        0        0        0   \n",
       "\n",
       "   1/25/20  1/26/20  1/27/20  ...  5/1/20  5/2/20  5/3/20  5/4/20  5/5/20  \\\n",
       "0        0        0        0  ...    2335    2469    2704    2894    3224   \n",
       "1        0        0        0  ...     782     789     795     803     820   \n",
       "2        0        0        0  ...    4154    4295    4474    4648    4838   \n",
       "3        0        0        0  ...     745     747     748     750     751   \n",
       "4        0        0        0  ...      30      35      35      35      36   \n",
       "\n",
       "   5/6/20  5/7/20  5/8/20  5/9/20  5/10/20  \n",
       "0    3392    3563    3778    4033     4402  \n",
       "1     832     842     850     856      868  \n",
       "2    4997    5182    5369    5558     5723  \n",
       "3     751     752     752     754      755  \n",
       "4      36      36      43      43       45  \n",
       "\n",
       "[5 rows x 114 columns]"
      ]
     },
     "execution_count": 54,
     "metadata": {},
     "output_type": "execute_result"
    }
   ],
   "source": [
    "confirmed.head()"
   ]
  },
  {
   "cell_type": "code",
   "execution_count": 55,
   "metadata": {},
   "outputs": [],
   "source": [
    "confirmed_us = confirmed.loc[confirmed[\"Country/Region\"] == \"US\"]\n",
    "deaths_us = deaths.loc[deaths[\"Country/Region\"] == \"US\"]\n",
    "recovered_us = recovered.loc[recovered[\"Country/Region\"] == \"US\"]"
   ]
  },
  {
   "cell_type": "code",
   "execution_count": 56,
   "metadata": {},
   "outputs": [
    {
     "data": {
      "text/html": [
       "<div>\n",
       "<style scoped>\n",
       "    .dataframe tbody tr th:only-of-type {\n",
       "        vertical-align: middle;\n",
       "    }\n",
       "\n",
       "    .dataframe tbody tr th {\n",
       "        vertical-align: top;\n",
       "    }\n",
       "\n",
       "    .dataframe thead th {\n",
       "        text-align: right;\n",
       "    }\n",
       "</style>\n",
       "<table border=\"1\" class=\"dataframe\">\n",
       "  <thead>\n",
       "    <tr style=\"text-align: right;\">\n",
       "      <th></th>\n",
       "      <th>Province/State</th>\n",
       "      <th>Country/Region</th>\n",
       "      <th>Lat</th>\n",
       "      <th>Long</th>\n",
       "      <th>1/22/20</th>\n",
       "      <th>1/23/20</th>\n",
       "      <th>1/24/20</th>\n",
       "      <th>1/25/20</th>\n",
       "      <th>1/26/20</th>\n",
       "      <th>1/27/20</th>\n",
       "      <th>...</th>\n",
       "      <th>5/1/20</th>\n",
       "      <th>5/2/20</th>\n",
       "      <th>5/3/20</th>\n",
       "      <th>5/4/20</th>\n",
       "      <th>5/5/20</th>\n",
       "      <th>5/6/20</th>\n",
       "      <th>5/7/20</th>\n",
       "      <th>5/8/20</th>\n",
       "      <th>5/9/20</th>\n",
       "      <th>5/10/20</th>\n",
       "    </tr>\n",
       "  </thead>\n",
       "  <tbody>\n",
       "    <tr>\n",
       "      <th>225</th>\n",
       "      <td>NaN</td>\n",
       "      <td>US</td>\n",
       "      <td>37.0902</td>\n",
       "      <td>-95.7129</td>\n",
       "      <td>1</td>\n",
       "      <td>1</td>\n",
       "      <td>2</td>\n",
       "      <td>2</td>\n",
       "      <td>5</td>\n",
       "      <td>5</td>\n",
       "      <td>...</td>\n",
       "      <td>1103461</td>\n",
       "      <td>1132539</td>\n",
       "      <td>1158040</td>\n",
       "      <td>1180375</td>\n",
       "      <td>1204351</td>\n",
       "      <td>1229331</td>\n",
       "      <td>1257023</td>\n",
       "      <td>1283929</td>\n",
       "      <td>1309550</td>\n",
       "      <td>1329260</td>\n",
       "    </tr>\n",
       "  </tbody>\n",
       "</table>\n",
       "<p>1 rows × 114 columns</p>\n",
       "</div>"
      ],
      "text/plain": [
       "    Province/State Country/Region      Lat     Long  1/22/20  1/23/20  \\\n",
       "225            NaN             US  37.0902 -95.7129        1        1   \n",
       "\n",
       "     1/24/20  1/25/20  1/26/20  1/27/20  ...   5/1/20   5/2/20   5/3/20  \\\n",
       "225        2        2        5        5  ...  1103461  1132539  1158040   \n",
       "\n",
       "      5/4/20   5/5/20   5/6/20   5/7/20   5/8/20   5/9/20  5/10/20  \n",
       "225  1180375  1204351  1229331  1257023  1283929  1309550  1329260  \n",
       "\n",
       "[1 rows x 114 columns]"
      ]
     },
     "execution_count": 56,
     "metadata": {},
     "output_type": "execute_result"
    }
   ],
   "source": [
    "confirmed_us.head()"
   ]
  },
  {
   "cell_type": "code",
   "execution_count": 57,
   "metadata": {},
   "outputs": [],
   "source": [
    "df_list = [confirmed_us, deaths_us, recovered_us]\n",
    "\n",
    "for i in range(3):\n",
    "    df = df_list[i].drop(columns = [\"Province/State\", \"Country/Region\", \"Lat\", \"Long\"])\n",
    "    dates, values = [], []\n",
    "\n",
    "    for j in df:\n",
    "        dates.append(j)\n",
    "        values.append(df.iloc[0][j])\n",
    "        \n",
    "    new_data = {'Date': dates, 'Cases': values}\n",
    "    df_list[i] = pd.DataFrame(new_data)\n",
    "\n",
    "confirmed_us = df_list[0]\n",
    "deaths_us = df_list[1]\n",
    "recovered_us = df_list[2]"
   ]
  },
  {
   "cell_type": "code",
   "execution_count": 58,
   "metadata": {},
   "outputs": [
    {
     "data": {
      "text/html": [
       "<div>\n",
       "<style scoped>\n",
       "    .dataframe tbody tr th:only-of-type {\n",
       "        vertical-align: middle;\n",
       "    }\n",
       "\n",
       "    .dataframe tbody tr th {\n",
       "        vertical-align: top;\n",
       "    }\n",
       "\n",
       "    .dataframe thead th {\n",
       "        text-align: right;\n",
       "    }\n",
       "</style>\n",
       "<table border=\"1\" class=\"dataframe\">\n",
       "  <thead>\n",
       "    <tr style=\"text-align: right;\">\n",
       "      <th></th>\n",
       "      <th>Date</th>\n",
       "      <th>Cases</th>\n",
       "    </tr>\n",
       "  </thead>\n",
       "  <tbody>\n",
       "    <tr>\n",
       "      <th>0</th>\n",
       "      <td>1/22/20</td>\n",
       "      <td>1</td>\n",
       "    </tr>\n",
       "    <tr>\n",
       "      <th>1</th>\n",
       "      <td>1/23/20</td>\n",
       "      <td>1</td>\n",
       "    </tr>\n",
       "    <tr>\n",
       "      <th>2</th>\n",
       "      <td>1/24/20</td>\n",
       "      <td>2</td>\n",
       "    </tr>\n",
       "    <tr>\n",
       "      <th>3</th>\n",
       "      <td>1/25/20</td>\n",
       "      <td>2</td>\n",
       "    </tr>\n",
       "    <tr>\n",
       "      <th>4</th>\n",
       "      <td>1/26/20</td>\n",
       "      <td>5</td>\n",
       "    </tr>\n",
       "  </tbody>\n",
       "</table>\n",
       "</div>"
      ],
      "text/plain": [
       "      Date  Cases\n",
       "0  1/22/20      1\n",
       "1  1/23/20      1\n",
       "2  1/24/20      2\n",
       "3  1/25/20      2\n",
       "4  1/26/20      5"
      ]
     },
     "execution_count": 58,
     "metadata": {},
     "output_type": "execute_result"
    }
   ],
   "source": [
    "confirmed_us.head()"
   ]
  },
  {
   "cell_type": "code",
   "execution_count": 59,
   "metadata": {},
   "outputs": [
    {
     "data": {
      "image/png": "[encoded data removed]",
      "text/plain": [
       "<Figure size 432x288 with 1 Axes>"
      ]
     },
     "metadata": {
      "needs_background": "light"
     },
     "output_type": "display_data"
    }
   ],
   "source": [
    "plt.title(\"Confirmed Cases - US\")\n",
    "plt.xlabel(\"Date\")\n",
    "plt.ylabel(\"Cases\")\n",
    "plt.plot(confirmed_us[\"Date\"], confirmed_us[\"Cases\"])\n",
    "plt.show()"
   ]
  },
  {
   "cell_type": "code",
   "execution_count": 60,
   "metadata": {},
   "outputs": [
    {
     "data": {
      "image/png": "[encoded data removed]",
      "text/plain": [
       "<Figure size 432x288 with 1 Axes>"
      ]
     },
     "metadata": {
      "needs_background": "light"
     },
     "output_type": "display_data"
    }
   ],
   "source": [
    "plt.title(\"Deaths - US\")\n",
    "plt.xlabel(\"Date\")\n",
    "plt.ylabel(\"Cases\")\n",
    "plt.plot(deaths_us[\"Date\"], deaths_us[\"Cases\"])\n",
    "plt.show()"
   ]
  },
  {
   "cell_type": "code",
   "execution_count": 61,
   "metadata": {},
   "outputs": [
    {
     "data": {
      "image/png": "[encoded data removed]",
      "text/plain": [
       "<Figure size 432x288 with 1 Axes>"
      ]
     },
     "metadata": {
      "needs_background": "light"
     },
     "output_type": "display_data"
    }
   ],
   "source": [
    "plt.title(\"Recovered - US\")\n",
    "plt.xlabel(\"Date\")\n",
    "plt.ylabel(\"Cases\")\n",
    "plt.plot(recovered_us[\"Date\"], recovered_us[\"Cases\"])\n",
    "plt.show()"
   ]
  },
  {
   "cell_type": "code",
   "execution_count": 62,
   "metadata": {},
   "outputs": [],
   "source": [
    "def convertToWeekly(df):\n",
    "    new_dates, new_cases = [], []\n",
    "    count = 0\n",
    "\n",
    "    for index, row in df.iterrows():\n",
    "        if (count == 6):\n",
    "            new_dates.append(row[\"Date\"])\n",
    "            new_cases.append(row[\"Cases\"])\n",
    "            count = 0\n",
    "        else:\n",
    "            count += 1\n",
    "    \n",
    "    new_data = {'Date': new_dates, 'Cases': new_cases}\n",
    "    return pd.DataFrame(new_data)"
   ]
  },
  {
   "cell_type": "code",
   "execution_count": 63,
   "metadata": {},
   "outputs": [],
   "source": [
    "confirmed_us_weekly = convertToWeekly(confirmed_us)\n",
    "deaths_us_weekly = convertToWeekly(deaths_us)\n",
    "recovered_us_weekly = convertToWeekly(recovered_us)"
   ]
  },
  {
   "cell_type": "code",
   "execution_count": 64,
   "metadata": {},
   "outputs": [
    {
     "data": {
      "text/html": [
       "<div>\n",
       "<style scoped>\n",
       "    .dataframe tbody tr th:only-of-type {\n",
       "        vertical-align: middle;\n",
       "    }\n",
       "\n",
       "    .dataframe tbody tr th {\n",
       "        vertical-align: top;\n",
       "    }\n",
       "\n",
       "    .dataframe thead th {\n",
       "        text-align: right;\n",
       "    }\n",
       "</style>\n",
       "<table border=\"1\" class=\"dataframe\">\n",
       "  <thead>\n",
       "    <tr style=\"text-align: right;\">\n",
       "      <th></th>\n",
       "      <th>Date</th>\n",
       "      <th>Cases</th>\n",
       "    </tr>\n",
       "  </thead>\n",
       "  <tbody>\n",
       "    <tr>\n",
       "      <th>0</th>\n",
       "      <td>1/28/20</td>\n",
       "      <td>5</td>\n",
       "    </tr>\n",
       "    <tr>\n",
       "      <th>1</th>\n",
       "      <td>2/4/20</td>\n",
       "      <td>11</td>\n",
       "    </tr>\n",
       "    <tr>\n",
       "      <th>2</th>\n",
       "      <td>2/11/20</td>\n",
       "      <td>12</td>\n",
       "    </tr>\n",
       "    <tr>\n",
       "      <th>3</th>\n",
       "      <td>2/18/20</td>\n",
       "      <td>13</td>\n",
       "    </tr>\n",
       "    <tr>\n",
       "      <th>4</th>\n",
       "      <td>2/25/20</td>\n",
       "      <td>51</td>\n",
       "    </tr>\n",
       "  </tbody>\n",
       "</table>\n",
       "</div>"
      ],
      "text/plain": [
       "      Date  Cases\n",
       "0  1/28/20      5\n",
       "1   2/4/20     11\n",
       "2  2/11/20     12\n",
       "3  2/18/20     13\n",
       "4  2/25/20     51"
      ]
     },
     "execution_count": 64,
     "metadata": {},
     "output_type": "execute_result"
    }
   ],
   "source": [
    "confirmed_us_weekly.head()"
   ]
  },
  {
   "cell_type": "code",
   "execution_count": 65,
   "metadata": {},
   "outputs": [],
   "source": [
    "dates = list(confirmed_us_weekly[\"Date\"].values)"
   ]
  },
  {
   "cell_type": "code",
   "execution_count": 66,
   "metadata": {},
   "outputs": [],
   "source": [
    "# I realize that this is an incredibly inefficient function\n",
    "def getWeeklyResults(df):\n",
    "    results_list = []\n",
    "\n",
    "    for date in dates:\n",
    "        month = date[0:1]\n",
    "        day = \"\"\n",
    "        \n",
    "        if len(date) == 7:\n",
    "            day = date[2:4]\n",
    "        else:\n",
    "            day = date[2:3]\n",
    "                \n",
    "        date_results = []\n",
    "    \n",
    "        for index, row in df.iterrows():\n",
    "            tweet_date = row[\"Date\"]\n",
    "            tweet_month = date[0:1]\n",
    "            tweet_day = \"\" \n",
    "            \n",
    "            if len(tweet_date) == 7:\n",
    "                tweet_day = tweet_date[2:4]\n",
    "            else:\n",
    "                tweet_day = tweet_date[2:3]\n",
    "            \n",
    "            if tweet_month <= month:\n",
    "                if tweet_day <= day:\n",
    "                    date_results.append(row[\"Ensemble\"])\n",
    "        \n",
    "        results_list.append(date_results)\n",
    "    \n",
    "    return results_list"
   ]
  },
  {
   "cell_type": "code",
   "execution_count": 67,
   "metadata": {},
   "outputs": [],
   "source": [
    "weekly_results = getWeeklyResults(data)"
   ]
  },
  {
   "cell_type": "code",
   "execution_count": 68,
   "metadata": {},
   "outputs": [
    {
     "name": "stdout",
     "output_type": "stream",
     "text": [
      "2658\n"
     ]
    }
   ],
   "source": [
    "print(len(weekly_results[7]))"
   ]
  },
  {
   "cell_type": "code",
   "execution_count": 69,
   "metadata": {},
   "outputs": [],
   "source": [
    "week_counts = {}\n",
    "for i in range(len(weekly_results)):\n",
    "    if (len(weekly_results[i]) != 0):\n",
    "        date = dates[i]\n",
    "        total_count = len(weekly_results[i])\n",
    "        counter = Counter(weekly_results[i])\n",
    "        positive_percent = counter[\"positive\"] / total_count\n",
    "        neutral_percent = counter[\"neutral\"] / total_count\n",
    "        negative_percent = counter[\"negative\"] / total_count\n",
    "        irrelevant_percent = counter[\"irrelevant\"] / total_count\n",
    "        week_counts[date] = [total_count, positive_percent, neutral_percent, negative_percent]"
   ]
  },
  {
   "cell_type": "code",
   "execution_count": 70,
   "metadata": {},
   "outputs": [
    {
     "data": {
      "text/plain": [
       "{'1/28/20': [5000, 0.219, 0.6886, 0.084],\n",
       " '2/4/20': [5551, 0.2179787425689065, 0.6883444424428031, 0.08557016753738066],\n",
       " '2/18/20': [3866,\n",
       "  0.21857216761510606,\n",
       "  0.6836523538541128,\n",
       "  0.08872219348163476],\n",
       " '2/25/20': [5000, 0.219, 0.6886, 0.084],\n",
       " '3/3/20': [5000, 0.219, 0.6886, 0.084],\n",
       " '3/17/20': [2658,\n",
       "  0.22234762979683972,\n",
       "  0.6689240030097818,\n",
       "  0.09857035364936043],\n",
       " '3/24/20': [5000, 0.219, 0.6886, 0.084],\n",
       " '3/31/20': [5000, 0.219, 0.6886, 0.084],\n",
       " '4/7/20': [7500, 0.2212, 0.6882666666666667, 0.08293333333333333],\n",
       " '4/14/20': [2500, 0.2268, 0.6644, 0.0992],\n",
       " '4/21/20': [5000, 0.219, 0.6886, 0.084],\n",
       " '4/28/20': [5000, 0.219, 0.6886, 0.084],\n",
       " '5/5/20': [7500, 0.2212, 0.6882666666666667, 0.08293333333333333]}"
      ]
     },
     "execution_count": 70,
     "metadata": {},
     "output_type": "execute_result"
    }
   ],
   "source": [
    "week_counts"
   ]
  },
  {
   "cell_type": "code",
   "execution_count": 71,
   "metadata": {},
   "outputs": [],
   "source": [
    "def normalize(df):\n",
    "    df[\"Normalized\"] = (df[\"Cases\"] - df[\"Cases\"].min()) / (df[\"Cases\"].max() - df[\"Cases\"].min())\n",
    "    return df"
   ]
  },
  {
   "cell_type": "code",
   "execution_count": 72,
   "metadata": {},
   "outputs": [],
   "source": [
    "for df in [confirmed_us_weekly, recovered_us_weekly, deaths_us_weekly]:\n",
    "    df = normalize(df)"
   ]
  },
  {
   "cell_type": "code",
   "execution_count": 73,
   "metadata": {},
   "outputs": [
    {
     "data": {
      "text/html": [
       "<div>\n",
       "<style scoped>\n",
       "    .dataframe tbody tr th:only-of-type {\n",
       "        vertical-align: middle;\n",
       "    }\n",
       "\n",
       "    .dataframe tbody tr th {\n",
       "        vertical-align: top;\n",
       "    }\n",
       "\n",
       "    .dataframe thead th {\n",
       "        text-align: right;\n",
       "    }\n",
       "</style>\n",
       "<table border=\"1\" class=\"dataframe\">\n",
       "  <thead>\n",
       "    <tr style=\"text-align: right;\">\n",
       "      <th></th>\n",
       "      <th>Date</th>\n",
       "      <th>Cases</th>\n",
       "    </tr>\n",
       "  </thead>\n",
       "  <tbody>\n",
       "    <tr>\n",
       "      <th>105</th>\n",
       "      <td>5/6/20</td>\n",
       "      <td>189910</td>\n",
       "    </tr>\n",
       "    <tr>\n",
       "      <th>106</th>\n",
       "      <td>5/7/20</td>\n",
       "      <td>195036</td>\n",
       "    </tr>\n",
       "    <tr>\n",
       "      <th>107</th>\n",
       "      <td>5/8/20</td>\n",
       "      <td>198993</td>\n",
       "    </tr>\n",
       "    <tr>\n",
       "      <th>108</th>\n",
       "      <td>5/9/20</td>\n",
       "      <td>212534</td>\n",
       "    </tr>\n",
       "    <tr>\n",
       "      <th>109</th>\n",
       "      <td>5/10/20</td>\n",
       "      <td>216169</td>\n",
       "    </tr>\n",
       "  </tbody>\n",
       "</table>\n",
       "</div>"
      ],
      "text/plain": [
       "        Date   Cases\n",
       "105   5/6/20  189910\n",
       "106   5/7/20  195036\n",
       "107   5/8/20  198993\n",
       "108   5/9/20  212534\n",
       "109  5/10/20  216169"
      ]
     },
     "execution_count": 73,
     "metadata": {},
     "output_type": "execute_result"
    }
   ],
   "source": [
    "recovered_us.tail()"
   ]
  },
  {
   "cell_type": "code",
   "execution_count": 74,
   "metadata": {
    "scrolled": true
   },
   "outputs": [],
   "source": [
    "def clean(df):\n",
    "    for index, row in df.iterrows():\n",
    "        if row[\"Date\"] not in week_counts:\n",
    "            df = df[df.Date != row[\"Date\"]]\n",
    "    return df"
   ]
  },
  {
   "cell_type": "code",
   "execution_count": 75,
   "metadata": {},
   "outputs": [],
   "source": [
    "confirmed_us_weekly = clean(confirmed_us_weekly)\n",
    "recovered_us_weekly = clean(recovered_us_weekly)\n",
    "deaths_us_weekly = clean(deaths_us_weekly)"
   ]
  },
  {
   "cell_type": "code",
   "execution_count": 76,
   "metadata": {},
   "outputs": [],
   "source": [
    "def addTweetSentiment(df, i):\n",
    "    sentiment_list = []\n",
    "    \n",
    "    for index, row in df.iterrows():\n",
    "        if row[\"Date\"] in week_counts:\n",
    "            sentiments = week_counts[row[\"Date\"]]\n",
    "            sentiment_list.append(sentiments[i])\n",
    "        \n",
    "    df[str(i)] = sentiment_list\n",
    "    return df"
   ]
  },
  {
   "cell_type": "code",
   "execution_count": 77,
   "metadata": {},
   "outputs": [],
   "source": [
    "for i in range(1, 4, 1):\n",
    "    confirmed_us_weekly = addTweetSentiment(confirmed_us_weekly, i)\n",
    "    recovered_us_weekly = addTweetSentiment(recovered_us_weekly, i)\n",
    "    deaths_us_weekly = addTweetSentiment(deaths_us_weekly, i)"
   ]
  },
  {
   "cell_type": "code",
   "execution_count": 78,
   "metadata": {},
   "outputs": [
    {
     "data": {
      "text/html": [
       "<div>\n",
       "<style scoped>\n",
       "    .dataframe tbody tr th:only-of-type {\n",
       "        vertical-align: middle;\n",
       "    }\n",
       "\n",
       "    .dataframe tbody tr th {\n",
       "        vertical-align: top;\n",
       "    }\n",
       "\n",
       "    .dataframe thead th {\n",
       "        text-align: right;\n",
       "    }\n",
       "</style>\n",
       "<table border=\"1\" class=\"dataframe\">\n",
       "  <thead>\n",
       "    <tr style=\"text-align: right;\">\n",
       "      <th></th>\n",
       "      <th>Date</th>\n",
       "      <th>Cases</th>\n",
       "      <th>Normalized</th>\n",
       "      <th>1</th>\n",
       "      <th>2</th>\n",
       "      <th>3</th>\n",
       "    </tr>\n",
       "  </thead>\n",
       "  <tbody>\n",
       "    <tr>\n",
       "      <th>0</th>\n",
       "      <td>1/28/20</td>\n",
       "      <td>5</td>\n",
       "      <td>0.000000</td>\n",
       "      <td>0.219000</td>\n",
       "      <td>0.688600</td>\n",
       "      <td>0.084000</td>\n",
       "    </tr>\n",
       "    <tr>\n",
       "      <th>1</th>\n",
       "      <td>2/4/20</td>\n",
       "      <td>11</td>\n",
       "      <td>0.000005</td>\n",
       "      <td>0.217979</td>\n",
       "      <td>0.688344</td>\n",
       "      <td>0.085570</td>\n",
       "    </tr>\n",
       "    <tr>\n",
       "      <th>3</th>\n",
       "      <td>2/18/20</td>\n",
       "      <td>13</td>\n",
       "      <td>0.000007</td>\n",
       "      <td>0.218572</td>\n",
       "      <td>0.683652</td>\n",
       "      <td>0.088722</td>\n",
       "    </tr>\n",
       "    <tr>\n",
       "      <th>4</th>\n",
       "      <td>2/25/20</td>\n",
       "      <td>51</td>\n",
       "      <td>0.000038</td>\n",
       "      <td>0.219000</td>\n",
       "      <td>0.688600</td>\n",
       "      <td>0.084000</td>\n",
       "    </tr>\n",
       "    <tr>\n",
       "      <th>5</th>\n",
       "      <td>3/3/20</td>\n",
       "      <td>118</td>\n",
       "      <td>0.000094</td>\n",
       "      <td>0.219000</td>\n",
       "      <td>0.688600</td>\n",
       "      <td>0.084000</td>\n",
       "    </tr>\n",
       "  </tbody>\n",
       "</table>\n",
       "</div>"
      ],
      "text/plain": [
       "      Date  Cases  Normalized         1         2         3\n",
       "0  1/28/20      5    0.000000  0.219000  0.688600  0.084000\n",
       "1   2/4/20     11    0.000005  0.217979  0.688344  0.085570\n",
       "3  2/18/20     13    0.000007  0.218572  0.683652  0.088722\n",
       "4  2/25/20     51    0.000038  0.219000  0.688600  0.084000\n",
       "5   3/3/20    118    0.000094  0.219000  0.688600  0.084000"
      ]
     },
     "execution_count": 78,
     "metadata": {},
     "output_type": "execute_result"
    }
   ],
   "source": [
    "confirmed_us_weekly.head()"
   ]
  },
  {
   "cell_type": "code",
   "execution_count": 79,
   "metadata": {},
   "outputs": [
    {
     "data": {
      "image/png": "[encoded data removed]",
      "text/plain": [
       "<Figure size 1440x216 with 1 Axes>"
      ]
     },
     "metadata": {
      "needs_background": "light"
     },
     "output_type": "display_data"
    }
   ],
   "source": [
    "plt.rcParams[\"figure.figsize\"] = (20,3)\n",
    "\n",
    "plt.title(\"Tweets and Confirmed Cases - US\")\n",
    "plt.xlabel(\"Date\")\n",
    "plt.ylabel(\"Percent\")\n",
    "\n",
    "plt.plot(confirmed_us_weekly[\"Date\"], confirmed_us_weekly[\"Normalized\"])\n",
    "for i in range(1, 4, 1):\n",
    "    plt.plot(confirmed_us_weekly[\"Date\"], confirmed_us_weekly[str(i)])\n",
    "plt.legend([\"Confirmed Cases\", \"Positive Tweets\", \"Neutral Tweets\", \"Negative Tweets\"])\n",
    "\n",
    "plt.show()"
   ]
  },
  {
   "cell_type": "code",
   "execution_count": 80,
   "metadata": {},
   "outputs": [
    {
     "data": {
      "image/png": "[encoded data removed]",
      "text/plain": [
       "<Figure size 1440x216 with 1 Axes>"
      ]
     },
     "metadata": {
      "needs_background": "light"
     },
     "output_type": "display_data"
    }
   ],
   "source": [
    "plt.rcParams[\"figure.figsize\"] = (20,3)\n",
    "\n",
    "plt.title(\"Tweets and Deaths - US\")\n",
    "plt.xlabel(\"Date\")\n",
    "plt.ylabel(\"Percent\")\n",
    "\n",
    "plt.plot(confirmed_us_weekly[\"Date\"], confirmed_us_weekly[\"Normalized\"])\n",
    "for i in range(1, 4, 1):\n",
    "    plt.plot(confirmed_us_weekly[\"Date\"], confirmed_us_weekly[str(i)])\n",
    "plt.legend([\"Confirmed Cases\", \"Positive Tweets\", \"Neutral Tweets\", \"Negative Tweets\"])\n",
    "\n",
    "plt.show()"
   ]
  },
  {
   "cell_type": "code",
   "execution_count": 81,
   "metadata": {},
   "outputs": [
    {
     "data": {
      "image/png": "[encoded data removed]",
      "text/plain": [
       "<Figure size 1440x216 with 1 Axes>"
      ]
     },
     "metadata": {
      "needs_background": "light"
     },
     "output_type": "display_data"
    }
   ],
   "source": [
    "plt.rcParams[\"figure.figsize\"] = (20,3)\n",
    "\n",
    "plt.title(\"Tweets and Recovered - US\")\n",
    "plt.xlabel(\"Date\")\n",
    "plt.ylabel(\"Percent\")\n",
    "\n",
    "plt.plot(confirmed_us_weekly[\"Date\"], confirmed_us_weekly[\"Normalized\"])\n",
    "for i in range(1, 4, 1):\n",
    "    plt.plot(confirmed_us_weekly[\"Date\"], confirmed_us_weekly[str(i)])\n",
    "plt.legend([\"Confirmed Cases\", \"Positive Tweets\", \"Neutral Tweets\", \"Negative Tweets\"])\n",
    "\n",
    "plt.show()"
   ]
  },
  {
   "cell_type": "code",
   "execution_count": 82,
   "metadata": {},
   "outputs": [],
   "source": [
    "confirmed_us_weekly = confirmed_us_weekly.rename(columns = {\"1\": \"Positive Sentiment\", \"2\": \"Neutral Sentiment\", \"3\": \"Negative Sentiment\"})\n",
    "recovered_us_weekly = recovered_us_weekly.rename(columns = {\"1\": \"Positive Sentiment\", \"2\": \"Neutral Sentiment\", \"3\": \"Negative Sentiment\"})\n",
    "deaths_us_weekly = deaths_us_weekly.rename(columns = {\"1\": \"Positive Sentiment\", \"2\": \"Neutral Sentiment\", \"3\": \"Negative Sentiment\"})"
   ]
  },
  {
   "cell_type": "code",
   "execution_count": 83,
   "metadata": {},
   "outputs": [
    {
     "data": {
      "text/html": [
       "<div>\n",
       "<style scoped>\n",
       "    .dataframe tbody tr th:only-of-type {\n",
       "        vertical-align: middle;\n",
       "    }\n",
       "\n",
       "    .dataframe tbody tr th {\n",
       "        vertical-align: top;\n",
       "    }\n",
       "\n",
       "    .dataframe thead th {\n",
       "        text-align: right;\n",
       "    }\n",
       "</style>\n",
       "<table border=\"1\" class=\"dataframe\">\n",
       "  <thead>\n",
       "    <tr style=\"text-align: right;\">\n",
       "      <th></th>\n",
       "      <th>Cases</th>\n",
       "      <th>Normalized</th>\n",
       "      <th>Positive Sentiment</th>\n",
       "      <th>Neutral Sentiment</th>\n",
       "      <th>Negative Sentiment</th>\n",
       "    </tr>\n",
       "  </thead>\n",
       "  <tbody>\n",
       "    <tr>\n",
       "      <th>Cases</th>\n",
       "      <td>1.000000</td>\n",
       "      <td>1.000000</td>\n",
       "      <td>0.292486</td>\n",
       "      <td>0.023729</td>\n",
       "      <td>-0.120203</td>\n",
       "    </tr>\n",
       "    <tr>\n",
       "      <th>Normalized</th>\n",
       "      <td>1.000000</td>\n",
       "      <td>1.000000</td>\n",
       "      <td>0.292486</td>\n",
       "      <td>0.023729</td>\n",
       "      <td>-0.120203</td>\n",
       "    </tr>\n",
       "    <tr>\n",
       "      <th>Positive Sentiment</th>\n",
       "      <td>0.292486</td>\n",
       "      <td>0.292486</td>\n",
       "      <td>1.000000</td>\n",
       "      <td>-0.854793</td>\n",
       "      <td>0.760407</td>\n",
       "    </tr>\n",
       "    <tr>\n",
       "      <th>Neutral Sentiment</th>\n",
       "      <td>0.023729</td>\n",
       "      <td>0.023729</td>\n",
       "      <td>-0.854793</td>\n",
       "      <td>1.000000</td>\n",
       "      <td>-0.986643</td>\n",
       "    </tr>\n",
       "    <tr>\n",
       "      <th>Negative Sentiment</th>\n",
       "      <td>-0.120203</td>\n",
       "      <td>-0.120203</td>\n",
       "      <td>0.760407</td>\n",
       "      <td>-0.986643</td>\n",
       "      <td>1.000000</td>\n",
       "    </tr>\n",
       "  </tbody>\n",
       "</table>\n",
       "</div>"
      ],
      "text/plain": [
       "                       Cases  Normalized  Positive Sentiment  \\\n",
       "Cases               1.000000    1.000000            0.292486   \n",
       "Normalized          1.000000    1.000000            0.292486   \n",
       "Positive Sentiment  0.292486    0.292486            1.000000   \n",
       "Neutral Sentiment   0.023729    0.023729           -0.854793   \n",
       "Negative Sentiment -0.120203   -0.120203            0.760407   \n",
       "\n",
       "                    Neutral Sentiment  Negative Sentiment  \n",
       "Cases                        0.023729           -0.120203  \n",
       "Normalized                   0.023729           -0.120203  \n",
       "Positive Sentiment          -0.854793            0.760407  \n",
       "Neutral Sentiment            1.000000           -0.986643  \n",
       "Negative Sentiment          -0.986643            1.000000  "
      ]
     },
     "execution_count": 83,
     "metadata": {},
     "output_type": "execute_result"
    }
   ],
   "source": [
    "confirmed_us_weekly.corr()"
   ]
  },
  {
   "cell_type": "code",
   "execution_count": 84,
   "metadata": {},
   "outputs": [
    {
     "data": {
      "text/html": [
       "<div>\n",
       "<style scoped>\n",
       "    .dataframe tbody tr th:only-of-type {\n",
       "        vertical-align: middle;\n",
       "    }\n",
       "\n",
       "    .dataframe tbody tr th {\n",
       "        vertical-align: top;\n",
       "    }\n",
       "\n",
       "    .dataframe thead th {\n",
       "        text-align: right;\n",
       "    }\n",
       "</style>\n",
       "<table border=\"1\" class=\"dataframe\">\n",
       "  <thead>\n",
       "    <tr style=\"text-align: right;\">\n",
       "      <th></th>\n",
       "      <th>Cases</th>\n",
       "      <th>Normalized</th>\n",
       "      <th>Positive Sentiment</th>\n",
       "      <th>Neutral Sentiment</th>\n",
       "      <th>Negative Sentiment</th>\n",
       "    </tr>\n",
       "  </thead>\n",
       "  <tbody>\n",
       "    <tr>\n",
       "      <th>Cases</th>\n",
       "      <td>1.000000</td>\n",
       "      <td>1.000000</td>\n",
       "      <td>0.203056</td>\n",
       "      <td>0.090443</td>\n",
       "      <td>-0.173824</td>\n",
       "    </tr>\n",
       "    <tr>\n",
       "      <th>Normalized</th>\n",
       "      <td>1.000000</td>\n",
       "      <td>1.000000</td>\n",
       "      <td>0.203056</td>\n",
       "      <td>0.090443</td>\n",
       "      <td>-0.173824</td>\n",
       "    </tr>\n",
       "    <tr>\n",
       "      <th>Positive Sentiment</th>\n",
       "      <td>0.203056</td>\n",
       "      <td>0.203056</td>\n",
       "      <td>1.000000</td>\n",
       "      <td>-0.854793</td>\n",
       "      <td>0.760407</td>\n",
       "    </tr>\n",
       "    <tr>\n",
       "      <th>Neutral Sentiment</th>\n",
       "      <td>0.090443</td>\n",
       "      <td>0.090443</td>\n",
       "      <td>-0.854793</td>\n",
       "      <td>1.000000</td>\n",
       "      <td>-0.986643</td>\n",
       "    </tr>\n",
       "    <tr>\n",
       "      <th>Negative Sentiment</th>\n",
       "      <td>-0.173824</td>\n",
       "      <td>-0.173824</td>\n",
       "      <td>0.760407</td>\n",
       "      <td>-0.986643</td>\n",
       "      <td>1.000000</td>\n",
       "    </tr>\n",
       "  </tbody>\n",
       "</table>\n",
       "</div>"
      ],
      "text/plain": [
       "                       Cases  Normalized  Positive Sentiment  \\\n",
       "Cases               1.000000    1.000000            0.203056   \n",
       "Normalized          1.000000    1.000000            0.203056   \n",
       "Positive Sentiment  0.203056    0.203056            1.000000   \n",
       "Neutral Sentiment   0.090443    0.090443           -0.854793   \n",
       "Negative Sentiment -0.173824   -0.173824            0.760407   \n",
       "\n",
       "                    Neutral Sentiment  Negative Sentiment  \n",
       "Cases                        0.090443           -0.173824  \n",
       "Normalized                   0.090443           -0.173824  \n",
       "Positive Sentiment          -0.854793            0.760407  \n",
       "Neutral Sentiment            1.000000           -0.986643  \n",
       "Negative Sentiment          -0.986643            1.000000  "
      ]
     },
     "execution_count": 84,
     "metadata": {},
     "output_type": "execute_result"
    }
   ],
   "source": [
    "recovered_us_weekly.corr()"
   ]
  },
  {
   "cell_type": "code",
   "execution_count": 85,
   "metadata": {},
   "outputs": [
    {
     "data": {
      "text/html": [
       "<div>\n",
       "<style scoped>\n",
       "    .dataframe tbody tr th:only-of-type {\n",
       "        vertical-align: middle;\n",
       "    }\n",
       "\n",
       "    .dataframe tbody tr th {\n",
       "        vertical-align: top;\n",
       "    }\n",
       "\n",
       "    .dataframe thead th {\n",
       "        text-align: right;\n",
       "    }\n",
       "</style>\n",
       "<table border=\"1\" class=\"dataframe\">\n",
       "  <thead>\n",
       "    <tr style=\"text-align: right;\">\n",
       "      <th></th>\n",
       "      <th>Cases</th>\n",
       "      <th>Normalized</th>\n",
       "      <th>Positive Sentiment</th>\n",
       "      <th>Neutral Sentiment</th>\n",
       "      <th>Negative Sentiment</th>\n",
       "    </tr>\n",
       "  </thead>\n",
       "  <tbody>\n",
       "    <tr>\n",
       "      <th>Cases</th>\n",
       "      <td>1.000000</td>\n",
       "      <td>1.000000</td>\n",
       "      <td>0.251551</td>\n",
       "      <td>0.042638</td>\n",
       "      <td>-0.130999</td>\n",
       "    </tr>\n",
       "    <tr>\n",
       "      <th>Normalized</th>\n",
       "      <td>1.000000</td>\n",
       "      <td>1.000000</td>\n",
       "      <td>0.251551</td>\n",
       "      <td>0.042638</td>\n",
       "      <td>-0.130999</td>\n",
       "    </tr>\n",
       "    <tr>\n",
       "      <th>Positive Sentiment</th>\n",
       "      <td>0.251551</td>\n",
       "      <td>0.251551</td>\n",
       "      <td>1.000000</td>\n",
       "      <td>-0.854793</td>\n",
       "      <td>0.760407</td>\n",
       "    </tr>\n",
       "    <tr>\n",
       "      <th>Neutral Sentiment</th>\n",
       "      <td>0.042638</td>\n",
       "      <td>0.042638</td>\n",
       "      <td>-0.854793</td>\n",
       "      <td>1.000000</td>\n",
       "      <td>-0.986643</td>\n",
       "    </tr>\n",
       "    <tr>\n",
       "      <th>Negative Sentiment</th>\n",
       "      <td>-0.130999</td>\n",
       "      <td>-0.130999</td>\n",
       "      <td>0.760407</td>\n",
       "      <td>-0.986643</td>\n",
       "      <td>1.000000</td>\n",
       "    </tr>\n",
       "  </tbody>\n",
       "</table>\n",
       "</div>"
      ],
      "text/plain": [
       "                       Cases  Normalized  Positive Sentiment  \\\n",
       "Cases               1.000000    1.000000            0.251551   \n",
       "Normalized          1.000000    1.000000            0.251551   \n",
       "Positive Sentiment  0.251551    0.251551            1.000000   \n",
       "Neutral Sentiment   0.042638    0.042638           -0.854793   \n",
       "Negative Sentiment -0.130999   -0.130999            0.760407   \n",
       "\n",
       "                    Neutral Sentiment  Negative Sentiment  \n",
       "Cases                        0.042638           -0.130999  \n",
       "Normalized                   0.042638           -0.130999  \n",
       "Positive Sentiment          -0.854793            0.760407  \n",
       "Neutral Sentiment            1.000000           -0.986643  \n",
       "Negative Sentiment          -0.986643            1.000000  "
      ]
     },
     "execution_count": 85,
     "metadata": {},
     "output_type": "execute_result"
    }
   ],
   "source": [
    "deaths_us_weekly.corr()"
   ]
  }
 ],
 "metadata": {
  "kernelspec": {
   "display_name": "Python 3",
   "language": "python",
   "name": "python3"
  },
  "language_info": {
   "codemirror_mode": {
    "name": "ipython",
    "version": 3
   },
   "file_extension": ".py",
   "mimetype": "text/x-python",
   "name": "python",
   "nbconvert_exporter": "python",
   "pygments_lexer": "ipython3",
   "version": "3.7.6"
  }
 },
 "nbformat": 4,
 "nbformat_minor": 2
}
